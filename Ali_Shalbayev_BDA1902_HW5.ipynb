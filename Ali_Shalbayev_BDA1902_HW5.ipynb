{
 "cells": [
  {
   "cell_type": "markdown",
   "metadata": {},
   "source": [
    "This is a web scraping assignment that is done on Krisha.kz. \n",
    "I scraped the flats where the city is Taraz. \n",
    "The flats that I scraped were put up for sale.\n",
    "My final dataframe is consist of 2864 rows and 11 columns. \n",
    "I got all the flats from Taraz."
   ]
  },
  {
   "cell_type": "code",
   "execution_count": 78,
   "metadata": {},
   "outputs": [],
   "source": [
    "# importing libraries\n",
    "import selenium\n",
    "from selenium import webdriver\n",
    "import pandas as pd\n",
    "import requests\n",
    "\n",
    "from selenium.webdriver.support.ui import WebDriverWait\n",
    "from selenium.webdriver.support import expected_conditions as EC\n",
    "from selenium.webdriver.support.ui import WebDriverWait as wait\n",
    "from selenium.webdriver.common.by import By\n",
    "import requests\n",
    "from bs4 import BeautifulSoup\n",
    "import re\n",
    "\n",
    "import matplotlib.pyplot as plt\n",
    "import seaborn as sns\n",
    "%matplotlib inline"
   ]
  },
  {
   "cell_type": "code",
   "execution_count": 2,
   "metadata": {},
   "outputs": [],
   "source": [
    "driver = webdriver.Chrome()"
   ]
  },
  {
   "cell_type": "code",
   "execution_count": 5,
   "metadata": {},
   "outputs": [
    {
     "name": "stdout",
     "output_type": "stream",
     "text": [
      "3-комнатная квартира, 67 м², 2/5 этаж, Алатау 18 — Сейфуллина Тараз, Жамбылская обл. 1982 г.п. 16000000 No Data 77053192432\n"
     ]
    }
   ],
   "source": [
    "# doing scraping for one page\n",
    "url = 'https://krisha.kz/a/show/664501426'\n",
    "driver.get(url)\n",
    "\n",
    "name = driver.find_element_by_xpath('/html/body/main/div[2]/div/div[1]/h1').text\n",
    "location = driver.find_element_by_xpath('/html/body/main/div[2]/div/div[2]/div[1]/div[1]/div[2]/div[1]/div[3]/span').text\n",
    "description = driver.find_element_by_xpath('/html/body/main/div[2]/div/div[2]/div[1]/div[1]/div[2]/div[2]/div[3]').text\n",
    "\n",
    "try: \n",
    "    author = driver.find_element_by_xpath('/html/body/main/div[2]/div/div[2]/div[1]/div[2]/div/div[2]/div[2]/a[2]').text\n",
    "except:\n",
    "    author = 'No Data'\n",
    "    \n",
    "price = driver.find_element_by_xpath('/html/body/main/div[2]/div/div[2]/div[1]/div[1]/div[1]/div').text\n",
    "price = str(price)\n",
    "price = re.sub(\"[^0-9]\", \"\", price)\n",
    "\n",
    "# scraping the mobile number\n",
    "headers = {'User-Agent' : 'Mozilla/5.0 (Windows NT 10.0; Win64; x64) AppleWebKit/537.36 (KHTML, like Gecko) Chrome/87.0.4280.88 Safari/537.36'}\n",
    "r = requests.get(url, headers = headers)\n",
    "soup = BeautifulSoup(r.content, 'lxml')\n",
    "soup = str(soup)\n",
    "phone = re.findall(r'phones(.+?)hasPhoto', soup)\n",
    "phone = str(phone)\n",
    "phone = re.sub(\"[^0-9]\", \"\", phone)\n",
    "\n",
    "print(name, location, description, price, author, phone)"
   ]
  },
  {
   "cell_type": "code",
   "execution_count": 24,
   "metadata": {},
   "outputs": [
    {
     "name": "stdout",
     "output_type": "stream",
     "text": [
      "['https://krisha.kz/a/show/664466039', 'https://krisha.kz/a/show/664557141', 'https://krisha.kz/a/show/664434907', 'https://krisha.kz/a/show/54645261', 'https://krisha.kz/a/show/663858990', 'https://krisha.kz/a/show/663928887', 'https://krisha.kz/a/show/664190858', 'https://krisha.kz/a/show/662026332', 'https://krisha.kz/a/show/57079149', 'https://krisha.kz/a/show/663884741', 'https://krisha.kz/a/show/30402040', 'https://krisha.kz/a/show/664393303', 'https://krisha.kz/a/show/664521692', 'https://krisha.kz/a/show/664115891', 'https://krisha.kz/a/show/664489647', 'https://krisha.kz/a/show/55332906', 'https://krisha.kz/a/show/664623322', 'https://krisha.kz/a/show/53325921', 'https://krisha.kz/a/show/661262459', 'https://krisha.kz/a/show/664340010', 'https://krisha.kz/a/show/661654049', 'https://krisha.kz/a/show/664220650', 'https://krisha.kz/a/show/662362842', 'https://krisha.kz/a/show/664557807', 'https://krisha.kz/a/show/662790997', 'https://krisha.kz/a/show/660310019', 'https://krisha.kz/a/show/663431785', 'https://krisha.kz/a/show/664501426', 'https://krisha.kz/a/show/664336848', 'https://krisha.kz/a/show/664237988', 'https://krisha.kz/a/show/664276685', 'https://krisha.kz/a/show/664407544', 'https://krisha.kz/a/show/57834906', 'https://krisha.kz/a/show/664144078', 'https://krisha.kz/a/show/58234769', 'https://krisha.kz/a/show/664577365', 'https://krisha.kz/a/show/664298658', 'https://krisha.kz/a/show/664128842', 'https://krisha.kz/a/show/58407728', 'https://krisha.kz/a/show/664328639', 'https://krisha.kz/a/show/54164705', 'https://krisha.kz/a/show/661780092', 'https://krisha.kz/a/show/663887328', 'https://krisha.kz/a/show/660817435', 'https://krisha.kz/a/show/664354536', 'https://krisha.kz/a/show/664624578', 'https://krisha.kz/a/show/664004540', 'https://krisha.kz/a/show/662680340', 'https://krisha.kz/a/show/664624355', 'https://krisha.kz/a/show/58608387', 'https://krisha.kz/a/show/663172620', 'https://krisha.kz/a/show/661853197', 'https://krisha.kz/a/show/664166752', 'https://krisha.kz/a/show/664328238', 'https://krisha.kz/a/show/663614772', 'https://krisha.kz/a/show/664162650', 'https://krisha.kz/a/show/662853049', 'https://krisha.kz/a/show/664241253', 'https://krisha.kz/a/show/50373791', 'https://krisha.kz/a/show/661301796', 'https://krisha.kz/a/show/664323024', 'https://krisha.kz/a/show/661486409', 'https://krisha.kz/a/show/660491659', 'https://krisha.kz/a/show/56188550', 'https://krisha.kz/a/show/52304325', 'https://krisha.kz/a/show/47216811', 'https://krisha.kz/a/show/664218937', 'https://krisha.kz/a/show/27290511', 'https://krisha.kz/a/show/663894731', 'https://krisha.kz/a/show/662660058', 'https://krisha.kz/a/show/661329423', 'https://krisha.kz/a/show/660669626', 'https://krisha.kz/a/show/662719760', 'https://krisha.kz/a/show/664484911', 'https://krisha.kz/a/show/661497529', 'https://krisha.kz/a/show/661073544', 'https://krisha.kz/a/show/664131251', 'https://krisha.kz/a/show/663551238', 'https://krisha.kz/a/show/661956689', 'https://krisha.kz/a/show/664472625', 'https://krisha.kz/a/show/662405682', 'https://krisha.kz/a/show/664472496', 'https://krisha.kz/a/show/56200590', 'https://krisha.kz/a/show/664326792', 'https://krisha.kz/a/show/661023636', 'https://krisha.kz/a/show/662734875', 'https://krisha.kz/a/show/663494363', 'https://krisha.kz/a/show/662719745', 'https://krisha.kz/a/show/663281405', 'https://krisha.kz/a/show/663954521', 'https://krisha.kz/a/show/51089723', 'https://krisha.kz/a/show/664204590', 'https://krisha.kz/a/show/663609551', 'https://krisha.kz/a/show/664622550', 'https://krisha.kz/a/show/663746230', 'https://krisha.kz/a/show/57625808', 'https://krisha.kz/a/show/664193304', 'https://krisha.kz/a/show/664018697', 'https://krisha.kz/a/show/663837792', 'https://krisha.kz/a/show/663499863', 'https://krisha.kz/a/show/57220345', 'https://krisha.kz/a/show/663829038', 'https://krisha.kz/a/show/661950351', 'https://krisha.kz/a/show/661704328', 'https://krisha.kz/a/show/664190946', 'https://krisha.kz/a/show/663963473', 'https://krisha.kz/a/show/661383736', 'https://krisha.kz/a/show/663939369', 'https://krisha.kz/a/show/664279989', 'https://krisha.kz/a/show/663999453', 'https://krisha.kz/a/show/664467779', 'https://krisha.kz/a/show/664271177', 'https://krisha.kz/a/show/662097460', 'https://krisha.kz/a/show/57578346', 'https://krisha.kz/a/show/661318349', 'https://krisha.kz/a/show/664622435', 'https://krisha.kz/a/show/49240330', 'https://krisha.kz/a/show/56878041', 'https://krisha.kz/a/show/58448450', 'https://krisha.kz/a/show/664444563', 'https://krisha.kz/a/show/664548463', 'https://krisha.kz/a/show/662262011', 'https://krisha.kz/a/show/660055677', 'https://krisha.kz/a/show/662259768', 'https://krisha.kz/a/show/57461226', 'https://krisha.kz/a/show/664490716', 'https://krisha.kz/a/show/55395705', 'https://krisha.kz/a/show/664620430', 'https://krisha.kz/a/show/663681148', 'https://krisha.kz/a/show/55381904', 'https://krisha.kz/a/show/664443432', 'https://krisha.kz/a/show/57704953', 'https://krisha.kz/a/show/664617654', 'https://krisha.kz/a/show/660940458', 'https://krisha.kz/a/show/664470967', 'https://krisha.kz/a/show/48897539', 'https://krisha.kz/a/show/664604369', 'https://krisha.kz/a/show/56007936', 'https://krisha.kz/a/show/52662099', 'https://krisha.kz/a/show/660939509', 'https://krisha.kz/a/show/664471377', 'https://krisha.kz/a/show/54712455', 'https://krisha.kz/a/show/663773971', 'https://krisha.kz/a/show/664192902', 'https://krisha.kz/a/show/664017250', 'https://krisha.kz/a/show/57991169', 'https://krisha.kz/a/show/664325309', 'https://krisha.kz/a/show/664324045', 'https://krisha.kz/a/show/664621915', 'https://krisha.kz/a/show/55064928', 'https://krisha.kz/a/show/662761888', 'https://krisha.kz/a/show/54672724', 'https://krisha.kz/a/show/664470210', 'https://krisha.kz/a/show/664471256', 'https://krisha.kz/a/show/663615985', 'https://krisha.kz/a/show/663615893', 'https://krisha.kz/a/show/663451732', 'https://krisha.kz/a/show/663884597', 'https://krisha.kz/a/show/661525741', 'https://krisha.kz/a/show/664325311', 'https://krisha.kz/a/show/661208312', 'https://krisha.kz/a/show/57062688', 'https://krisha.kz/a/show/664325242', 'https://krisha.kz/a/show/30916232', 'https://krisha.kz/a/show/662272295', 'https://krisha.kz/a/show/661311925', 'https://krisha.kz/a/show/663933360', 'https://krisha.kz/a/show/664621475', 'https://krisha.kz/a/show/56874707', 'https://krisha.kz/a/show/54471731', 'https://krisha.kz/a/show/660390478', 'https://krisha.kz/a/show/664325070', 'https://krisha.kz/a/show/56097529', 'https://krisha.kz/a/show/663014403', 'https://krisha.kz/a/show/661130240', 'https://krisha.kz/a/show/660248520', 'https://krisha.kz/a/show/660673505', 'https://krisha.kz/a/show/664192098', 'https://krisha.kz/a/show/664129870', 'https://krisha.kz/a/show/664470498', 'https://krisha.kz/a/show/49171730', 'https://krisha.kz/a/show/663406069', 'https://krisha.kz/a/show/664283144', 'https://krisha.kz/a/show/663053602', 'https://krisha.kz/a/show/664192050', 'https://krisha.kz/a/show/664324466', 'https://krisha.kz/a/show/664620793', 'https://krisha.kz/a/show/664580189', 'https://krisha.kz/a/show/664620819', 'https://krisha.kz/a/show/663450269', 'https://krisha.kz/a/show/663321758', 'https://krisha.kz/a/show/53358916', 'https://krisha.kz/a/show/660365126', 'https://krisha.kz/a/show/664160412', 'https://krisha.kz/a/show/664620390', 'https://krisha.kz/a/show/52469766', 'https://krisha.kz/a/show/662117772', 'https://krisha.kz/a/show/664469718', 'https://krisha.kz/a/show/662923836', 'https://krisha.kz/a/show/664620326', 'https://krisha.kz/a/show/57695563', 'https://krisha.kz/a/show/50447266', 'https://krisha.kz/a/show/55376030', 'https://krisha.kz/a/show/664000245', 'https://krisha.kz/a/show/663289228', 'https://krisha.kz/a/show/664323688', 'https://krisha.kz/a/show/49235717', 'https://krisha.kz/a/show/664481429', 'https://krisha.kz/a/show/663466636', 'https://krisha.kz/a/show/58621623', 'https://krisha.kz/a/show/664014506', 'https://krisha.kz/a/show/664619982', 'https://krisha.kz/a/show/660499890', 'https://krisha.kz/a/show/663607474', 'https://krisha.kz/a/show/662875983', 'https://krisha.kz/a/show/664536714', 'https://krisha.kz/a/show/663999792', 'https://krisha.kz/a/show/660304871', 'https://krisha.kz/a/show/661452392', 'https://krisha.kz/a/show/663023892', 'https://krisha.kz/a/show/664128626', 'https://krisha.kz/a/show/663746967', 'https://krisha.kz/a/show/660932546', 'https://krisha.kz/a/show/58589683', 'https://krisha.kz/a/show/662820901', 'https://krisha.kz/a/show/664323064', 'https://krisha.kz/a/show/54858558', 'https://krisha.kz/a/show/663809257', 'https://krisha.kz/a/show/664158867', 'https://krisha.kz/a/show/662583031', 'https://krisha.kz/a/show/51982849', 'https://krisha.kz/a/show/664190835', 'https://krisha.kz/a/show/664619005', 'https://krisha.kz/a/show/664618968', 'https://krisha.kz/a/show/58276368', 'https://krisha.kz/a/show/663882630', 'https://krisha.kz/a/show/664612271', 'https://krisha.kz/a/show/662139160', 'https://krisha.kz/a/show/664618732', 'https://krisha.kz/a/show/664480169', 'https://krisha.kz/a/show/661206203', 'https://krisha.kz/a/show/57257196', 'https://krisha.kz/a/show/664332242', 'https://krisha.kz/a/show/664468170', 'https://krisha.kz/a/show/662949901', 'https://krisha.kz/a/show/664617812', 'https://krisha.kz/a/show/664468017', 'https://krisha.kz/a/show/662566265', 'https://krisha.kz/a/show/664467853', 'https://krisha.kz/a/show/663200553', 'https://krisha.kz/a/show/664117832', 'https://krisha.kz/a/show/58594806', 'https://krisha.kz/a/show/50736919', 'https://krisha.kz/a/show/664466944', 'https://krisha.kz/a/show/663260311', 'https://krisha.kz/a/show/660726142', 'https://krisha.kz/a/show/663314682', 'https://krisha.kz/a/show/52045844', 'https://krisha.kz/a/show/50099910', 'https://krisha.kz/a/show/664468039', 'https://krisha.kz/a/show/661524681', 'https://krisha.kz/a/show/660312955', 'https://krisha.kz/a/show/57894950', 'https://krisha.kz/a/show/30564122', 'https://krisha.kz/a/show/56591230', 'https://krisha.kz/a/show/664480185', 'https://krisha.kz/a/show/663183024', 'https://krisha.kz/a/show/57811528', 'https://krisha.kz/a/show/660430170', 'https://krisha.kz/a/show/664616299', 'https://krisha.kz/a/show/55083082', 'https://krisha.kz/a/show/664466177', 'https://krisha.kz/a/show/661471386', 'https://krisha.kz/a/show/660616912', 'https://krisha.kz/a/show/664616158', 'https://krisha.kz/a/show/50215162', 'https://krisha.kz/a/show/58418814', 'https://krisha.kz/a/show/660130454', 'https://krisha.kz/a/show/664189362', 'https://krisha.kz/a/show/663182788', 'https://krisha.kz/a/show/664116864', 'https://krisha.kz/a/show/661475906', 'https://krisha.kz/a/show/662729291', 'https://krisha.kz/a/show/662245828', 'https://krisha.kz/a/show/55454471', 'https://krisha.kz/a/show/663144941', 'https://krisha.kz/a/show/662743789', 'https://krisha.kz/a/show/660268934', 'https://krisha.kz/a/show/664614952', 'https://krisha.kz/a/show/664464610', 'https://krisha.kz/a/show/661492634', 'https://krisha.kz/a/show/49318983', 'https://krisha.kz/a/show/664332186', 'https://krisha.kz/a/show/664188826', 'https://krisha.kz/a/show/662562691', 'https://krisha.kz/a/show/663742887', 'https://krisha.kz/a/show/57618293', 'https://krisha.kz/a/show/662259672', 'https://krisha.kz/a/show/55694559', 'https://krisha.kz/a/show/57578312', 'https://krisha.kz/a/show/664614366', 'https://krisha.kz/a/show/664464411', 'https://krisha.kz/a/show/664003148', 'https://krisha.kz/a/show/664614143', 'https://krisha.kz/a/show/660760184', 'https://krisha.kz/a/show/664408916', 'https://krisha.kz/a/show/664318810', 'https://krisha.kz/a/show/664613597', 'https://krisha.kz/a/show/664613913', 'https://krisha.kz/a/show/56332445', 'https://krisha.kz/a/show/664318587', 'https://krisha.kz/a/show/55422648', 'https://krisha.kz/a/show/663410999', 'https://krisha.kz/a/show/664188151', 'https://krisha.kz/a/show/58220064', 'https://krisha.kz/a/show/663603520', 'https://krisha.kz/a/show/52699346', 'https://krisha.kz/a/show/662875463', 'https://krisha.kz/a/show/661846147', 'https://krisha.kz/a/show/664317812', 'https://krisha.kz/a/show/57604202', 'https://krisha.kz/a/show/57902795', 'https://krisha.kz/a/show/664613473', 'https://krisha.kz/a/show/51686918', 'https://krisha.kz/a/show/664613349', 'https://krisha.kz/a/show/664316546', 'https://krisha.kz/a/show/664597783', 'https://krisha.kz/a/show/663741272', 'https://krisha.kz/a/show/664462524', 'https://krisha.kz/a/show/49317151', 'https://krisha.kz/a/show/664462493', 'https://krisha.kz/a/show/57424543', 'https://krisha.kz/a/show/663741023', 'https://krisha.kz/a/show/57252995', 'https://krisha.kz/a/show/661286675', 'https://krisha.kz/a/show/663779607', 'https://krisha.kz/a/show/57316854', 'https://krisha.kz/a/show/664612447', 'https://krisha.kz/a/show/663009942', 'https://krisha.kz/a/show/50955094', 'https://krisha.kz/a/show/664187437', 'https://krisha.kz/a/show/54610868', 'https://krisha.kz/a/show/53581919', 'https://krisha.kz/a/show/661302654', 'https://krisha.kz/a/show/664613010', 'https://krisha.kz/a/show/664612973', 'https://krisha.kz/a/show/664612886', 'https://krisha.kz/a/show/663752986', 'https://krisha.kz/a/show/30842547', 'https://krisha.kz/a/show/58037891', 'https://krisha.kz/a/show/662682688', 'https://krisha.kz/a/show/56475817', 'https://krisha.kz/a/show/51307499', 'https://krisha.kz/a/show/661466222', 'https://krisha.kz/a/show/664559513', 'https://krisha.kz/a/show/664612847', 'https://krisha.kz/a/show/664612130', 'https://krisha.kz/a/show/664612814', 'https://krisha.kz/a/show/664612015', 'https://krisha.kz/a/show/662820742', 'https://krisha.kz/a/show/55533455', 'https://krisha.kz/a/show/661490596', 'https://krisha.kz/a/show/56832341', 'https://krisha.kz/a/show/664610910', 'https://krisha.kz/a/show/16867312', 'https://krisha.kz/a/show/57111213', 'https://krisha.kz/a/show/661204096', 'https://krisha.kz/a/show/663015340', 'https://krisha.kz/a/show/664611450', 'https://krisha.kz/a/show/663983209', 'https://krisha.kz/a/show/664611911', 'https://krisha.kz/a/show/664611384', 'https://krisha.kz/a/show/56637599', 'https://krisha.kz/a/show/55395730', 'https://krisha.kz/a/show/660339658', 'https://krisha.kz/a/show/664611258', 'https://krisha.kz/a/show/664297843', 'https://krisha.kz/a/show/664611071', 'https://krisha.kz/a/show/47898800', 'https://krisha.kz/a/show/664227717', 'https://krisha.kz/a/show/56825466', 'https://krisha.kz/a/show/58397137', 'https://krisha.kz/a/show/664610978', 'https://krisha.kz/a/show/664315217', 'https://krisha.kz/a/show/663888332', 'https://krisha.kz/a/show/660446797', 'https://krisha.kz/a/show/662197558', 'https://krisha.kz/a/show/662619481', 'https://krisha.kz/a/show/664460186', 'https://krisha.kz/a/show/663614802', 'https://krisha.kz/a/show/664459925', 'https://krisha.kz/a/show/55471114', 'https://krisha.kz/a/show/664610001', 'https://krisha.kz/a/show/664454201', 'https://krisha.kz/a/show/664609921', 'https://krisha.kz/a/show/664609042', 'https://krisha.kz/a/show/663103314', 'https://krisha.kz/a/show/18214410', 'https://krisha.kz/a/show/663002228', 'https://krisha.kz/a/show/664131424', 'https://krisha.kz/a/show/664185680', 'https://krisha.kz/a/show/664609433', 'https://krisha.kz/a/show/661548998', 'https://krisha.kz/a/show/663828285', 'https://krisha.kz/a/show/664177800', 'https://krisha.kz/a/show/664596344', 'https://krisha.kz/a/show/50592618', 'https://krisha.kz/a/show/663769622', 'https://krisha.kz/a/show/664280113', 'https://krisha.kz/a/show/663765360', 'https://krisha.kz/a/show/58201305', 'https://krisha.kz/a/show/664608766', 'https://krisha.kz/a/show/664609691', 'https://krisha.kz/a/show/662231821', 'https://krisha.kz/a/show/663451621', 'https://krisha.kz/a/show/52167862', 'https://krisha.kz/a/show/664608937', 'https://krisha.kz/a/show/664608880', 'https://krisha.kz/a/show/664313520', 'https://krisha.kz/a/show/51101650', 'https://krisha.kz/a/show/662370377', 'https://krisha.kz/a/show/664608953', 'https://krisha.kz/a/show/664608800', 'https://krisha.kz/a/show/663598308', 'https://krisha.kz/a/show/662852053', 'https://krisha.kz/a/show/48250950', 'https://krisha.kz/a/show/663898349', 'https://krisha.kz/a/show/48066232', 'https://krisha.kz/a/show/660693679', 'https://krisha.kz/a/show/661521803', 'https://krisha.kz/a/show/664608644', 'https://krisha.kz/a/show/662850406', 'https://krisha.kz/a/show/660612633', 'https://krisha.kz/a/show/47058907', 'https://krisha.kz/a/show/662759754', 'https://krisha.kz/a/show/663351831', 'https://krisha.kz/a/show/660691791', 'https://krisha.kz/a/show/57440740', 'https://krisha.kz/a/show/664457490', 'https://krisha.kz/a/show/50069640', 'https://krisha.kz/a/show/53810545', 'https://krisha.kz/a/show/663554714', 'https://krisha.kz/a/show/664413933', 'https://krisha.kz/a/show/664100822', 'https://krisha.kz/a/show/663740920', 'https://krisha.kz/a/show/663630145', 'https://krisha.kz/a/show/662427764', 'https://krisha.kz/a/show/55434539', 'https://krisha.kz/a/show/662834324', 'https://krisha.kz/a/show/661885432', 'https://krisha.kz/a/show/660724278', 'https://krisha.kz/a/show/57349229', 'https://krisha.kz/a/show/663872123', 'https://krisha.kz/a/show/57939293', 'https://krisha.kz/a/show/662078798', 'https://krisha.kz/a/show/664365254', 'https://krisha.kz/a/show/664365306', 'https://krisha.kz/a/show/664607150', 'https://krisha.kz/a/show/663487383', 'https://krisha.kz/a/show/664221845', 'https://krisha.kz/a/show/663596305', 'https://krisha.kz/a/show/663596261', 'https://krisha.kz/a/show/664112477', 'https://krisha.kz/a/show/663324087', 'https://krisha.kz/a/show/663580822', 'https://krisha.kz/a/show/664606938', 'https://krisha.kz/a/show/51363585', 'https://krisha.kz/a/show/661673606', 'https://krisha.kz/a/show/30521787', 'https://krisha.kz/a/show/662151853', 'https://krisha.kz/a/show/57624598', 'https://krisha.kz/a/show/663208506', 'https://krisha.kz/a/show/664606496', 'https://krisha.kz/a/show/660960881', 'https://krisha.kz/a/show/664456109', 'https://krisha.kz/a/show/664147487', 'https://krisha.kz/a/show/664310911', 'https://krisha.kz/a/show/51802803', 'https://krisha.kz/a/show/661024103', 'https://krisha.kz/a/show/664116473', 'https://krisha.kz/a/show/664115145', 'https://krisha.kz/a/show/55374928', 'https://krisha.kz/a/show/662805432', 'https://krisha.kz/a/show/664130797', 'https://krisha.kz/a/show/664605604', 'https://krisha.kz/a/show/663566162', 'https://krisha.kz/a/show/662060777', 'https://krisha.kz/a/show/663870722', 'https://krisha.kz/a/show/664160469', 'https://krisha.kz/a/show/664455572', 'https://krisha.kz/a/show/664605786', 'https://krisha.kz/a/show/664019782', 'https://krisha.kz/a/show/661242528', 'https://krisha.kz/a/show/662940791', 'https://krisha.kz/a/show/664450762', 'https://krisha.kz/a/show/661907602', 'https://krisha.kz/a/show/57503523', 'https://krisha.kz/a/show/662994411', 'https://krisha.kz/a/show/662893444', 'https://krisha.kz/a/show/664148692', 'https://krisha.kz/a/show/47923719', 'https://krisha.kz/a/show/663408579', 'https://krisha.kz/a/show/662935533', 'https://krisha.kz/a/show/664313407', 'https://krisha.kz/a/show/661332733', 'https://krisha.kz/a/show/58039964', 'https://krisha.kz/a/show/55105799', 'https://krisha.kz/a/show/664403766', 'https://krisha.kz/a/show/58244102', 'https://krisha.kz/a/show/661110253', 'https://krisha.kz/a/show/664192131', 'https://krisha.kz/a/show/663469175', 'https://krisha.kz/a/show/57662842', 'https://krisha.kz/a/show/53259662', 'https://krisha.kz/a/show/664605290', 'https://krisha.kz/a/show/662682171', 'https://krisha.kz/a/show/663661407', 'https://krisha.kz/a/show/663987845', 'https://krisha.kz/a/show/58209313', 'https://krisha.kz/a/show/662585125', 'https://krisha.kz/a/show/664454755', 'https://krisha.kz/a/show/664121002', 'https://krisha.kz/a/show/662570870', 'https://krisha.kz/a/show/661619613', 'https://krisha.kz/a/show/664470906', 'https://krisha.kz/a/show/664094473', 'https://krisha.kz/a/show/52706766', 'https://krisha.kz/a/show/664470771', 'https://krisha.kz/a/show/50608589', 'https://krisha.kz/a/show/662897573', 'https://krisha.kz/a/show/663788991', 'https://krisha.kz/a/show/663678074', 'https://krisha.kz/a/show/664180718', 'https://krisha.kz/a/show/663721071', 'https://krisha.kz/a/show/664301794', 'https://krisha.kz/a/show/664604886', 'https://krisha.kz/a/show/660472165', 'https://krisha.kz/a/show/664194807', 'https://krisha.kz/a/show/664265805', 'https://krisha.kz/a/show/664350639', 'https://krisha.kz/a/show/664622241', 'https://krisha.kz/a/show/55451049', 'https://krisha.kz/a/show/662877802', 'https://krisha.kz/a/show/664329682', 'https://krisha.kz/a/show/664618243', 'https://krisha.kz/a/show/664617260', 'https://krisha.kz/a/show/54312540', 'https://krisha.kz/a/show/664100692', 'https://krisha.kz/a/show/663685212', 'https://krisha.kz/a/show/664614290', 'https://krisha.kz/a/show/664614267', 'https://krisha.kz/a/show/664614226', 'https://krisha.kz/a/show/664614185', 'https://krisha.kz/a/show/664614158', 'https://krisha.kz/a/show/664614115', 'https://krisha.kz/a/show/664614093', 'https://krisha.kz/a/show/664614064', 'https://krisha.kz/a/show/664614038', 'https://krisha.kz/a/show/664614003', 'https://krisha.kz/a/show/664613691', 'https://krisha.kz/a/show/664348800', 'https://krisha.kz/a/show/664089613', 'https://krisha.kz/a/show/661308677', 'https://krisha.kz/a/show/664595931', 'https://krisha.kz/a/show/664405725', 'https://krisha.kz/a/show/664468441', 'https://krisha.kz/a/show/664184650', 'https://krisha.kz/a/show/664597072', 'https://krisha.kz/a/show/664482050', 'https://krisha.kz/a/show/662810987', 'https://krisha.kz/a/show/663999286', 'https://krisha.kz/a/show/660623645', 'https://krisha.kz/a/show/664199706', 'https://krisha.kz/a/show/48144837', 'https://krisha.kz/a/show/661775599', 'https://krisha.kz/a/show/663305764', 'https://krisha.kz/a/show/664154275', 'https://krisha.kz/a/show/664598316', 'https://krisha.kz/a/show/663837769', 'https://krisha.kz/a/show/664406379', 'https://krisha.kz/a/show/664050014', 'https://krisha.kz/a/show/662101159', 'https://krisha.kz/a/show/664482118', 'https://krisha.kz/a/show/664553997', 'https://krisha.kz/a/show/664454384', 'https://krisha.kz/a/show/663987469', 'https://krisha.kz/a/show/664442263', 'https://krisha.kz/a/show/57628486', 'https://krisha.kz/a/show/662658817', 'https://krisha.kz/a/show/662868950', 'https://krisha.kz/a/show/660366819', 'https://krisha.kz/a/show/664470054', 'https://krisha.kz/a/show/661292365', 'https://krisha.kz/a/show/664454076', 'https://krisha.kz/a/show/662852849', 'https://krisha.kz/a/show/662583368', 'https://krisha.kz/a/show/663359746', 'https://krisha.kz/a/show/660691127', 'https://krisha.kz/a/show/664604350', 'https://krisha.kz/a/show/664452650', 'https://krisha.kz/a/show/661268723', 'https://krisha.kz/a/show/663732638', 'https://krisha.kz/a/show/50971123', 'https://krisha.kz/a/show/661159705', 'https://krisha.kz/a/show/664308888', 'https://krisha.kz/a/show/660876968', 'https://krisha.kz/a/show/664453832', 'https://krisha.kz/a/show/664000374', 'https://krisha.kz/a/show/663324848', 'https://krisha.kz/a/show/662632882', 'https://krisha.kz/a/show/664308269', 'https://krisha.kz/a/show/51471065', 'https://krisha.kz/a/show/663908056', 'https://krisha.kz/a/show/660733059', 'https://krisha.kz/a/show/664453434', 'https://krisha.kz/a/show/662678184', 'https://krisha.kz/a/show/50942307', 'https://krisha.kz/a/show/53506808', 'https://krisha.kz/a/show/664580247', 'https://krisha.kz/a/show/664603574', 'https://krisha.kz/a/show/664441908', 'https://krisha.kz/a/show/664469095', 'https://krisha.kz/a/show/663153641', 'https://krisha.kz/a/show/56699362', 'https://krisha.kz/a/show/25969388', 'https://krisha.kz/a/show/664307883', 'https://krisha.kz/a/show/663868313', 'https://krisha.kz/a/show/662293857', 'https://krisha.kz/a/show/663607257', 'https://krisha.kz/a/show/664191102', 'https://krisha.kz/a/show/664307633', 'https://krisha.kz/a/show/664129319', 'https://krisha.kz/a/show/664602997', 'https://krisha.kz/a/show/664602827', 'https://krisha.kz/a/show/663986121', 'https://krisha.kz/a/show/664452110', 'https://krisha.kz/a/show/664602702', 'https://krisha.kz/a/show/660417575', 'https://krisha.kz/a/show/57911421', 'https://krisha.kz/a/show/662343087', 'https://krisha.kz/a/show/664259473', 'https://krisha.kz/a/show/664109105', 'https://krisha.kz/a/show/660580410', 'https://krisha.kz/a/show/664602325', 'https://krisha.kz/a/show/660253809', 'https://krisha.kz/a/show/662431501', 'https://krisha.kz/a/show/664306846', 'https://krisha.kz/a/show/664451448', 'https://krisha.kz/a/show/664514114', 'https://krisha.kz/a/show/664601945', 'https://krisha.kz/a/show/661424359', 'https://krisha.kz/a/show/664293928', 'https://krisha.kz/a/show/56814352', 'https://krisha.kz/a/show/663984959', 'https://krisha.kz/a/show/663328558', 'https://krisha.kz/a/show/47218887', 'https://krisha.kz/a/show/54182454', 'https://krisha.kz/a/show/664106129', 'https://krisha.kz/a/show/57327579', 'https://krisha.kz/a/show/664450757', 'https://krisha.kz/a/show/661760044', 'https://krisha.kz/a/show/49484536', 'https://krisha.kz/a/show/664450601', 'https://krisha.kz/a/show/662581982', 'https://krisha.kz/a/show/664600466', 'https://krisha.kz/a/show/664305031', 'https://krisha.kz/a/show/56443176', 'https://krisha.kz/a/show/664304943', 'https://krisha.kz/a/show/664304874', 'https://krisha.kz/a/show/663584909', 'https://krisha.kz/a/show/664320056', 'https://krisha.kz/a/show/56753219', 'https://krisha.kz/a/show/664317588', 'https://krisha.kz/a/show/663235160', 'https://krisha.kz/a/show/664599699', 'https://krisha.kz/a/show/663608735', 'https://krisha.kz/a/show/664180975', 'https://krisha.kz/a/show/664466267', 'https://krisha.kz/a/show/664466115', 'https://krisha.kz/a/show/661148850', 'https://krisha.kz/a/show/663249670', 'https://krisha.kz/a/show/662698817', 'https://krisha.kz/a/show/56129655', 'https://krisha.kz/a/show/664115515', 'https://krisha.kz/a/show/662008331', 'https://krisha.kz/a/show/664448977', 'https://krisha.kz/a/show/664116628', 'https://krisha.kz/a/show/664598818', 'https://krisha.kz/a/show/58469782', 'https://krisha.kz/a/show/663271583', 'https://krisha.kz/a/show/664598677', 'https://krisha.kz/a/show/664396414', 'https://krisha.kz/a/show/663285996', 'https://krisha.kz/a/show/662264931', 'https://krisha.kz/a/show/661955967', 'https://krisha.kz/a/show/661921969', 'https://krisha.kz/a/show/58446804', 'https://krisha.kz/a/show/56245595', 'https://krisha.kz/a/show/53495855', 'https://krisha.kz/a/show/56321308', 'https://krisha.kz/a/show/661304746', 'https://krisha.kz/a/show/661204948', 'https://krisha.kz/a/show/661444524', 'https://krisha.kz/a/show/663891037', 'https://krisha.kz/a/show/664448015', 'https://krisha.kz/a/show/661961445', 'https://krisha.kz/a/show/664564219', 'https://krisha.kz/a/show/664598306', 'https://krisha.kz/a/show/660920756', 'https://krisha.kz/a/show/664598116', 'https://krisha.kz/a/show/662054402', 'https://krisha.kz/a/show/660434200', 'https://krisha.kz/a/show/664180469', 'https://krisha.kz/a/show/662928956', 'https://krisha.kz/a/show/660601303', 'https://krisha.kz/a/show/664597447', 'https://krisha.kz/a/show/664594886', 'https://krisha.kz/a/show/664597521', 'https://krisha.kz/a/show/660047644', 'https://krisha.kz/a/show/663411901', 'https://krisha.kz/a/show/664597491', 'https://krisha.kz/a/show/662057260', 'https://krisha.kz/a/show/664597574', 'https://krisha.kz/a/show/664180387', 'https://krisha.kz/a/show/57916688', 'https://krisha.kz/a/show/57910563', 'https://krisha.kz/a/show/664027306', 'https://krisha.kz/a/show/662658011', 'https://krisha.kz/a/show/663319757', 'https://krisha.kz/a/show/50520447', 'https://krisha.kz/a/show/664433390', 'https://krisha.kz/a/show/664305396', 'https://krisha.kz/a/show/663171680', 'https://krisha.kz/a/show/664596520', 'https://krisha.kz/a/show/663378254', 'https://krisha.kz/a/show/57700365', 'https://krisha.kz/a/show/660954976', 'https://krisha.kz/a/show/664317787', 'https://krisha.kz/a/show/661722105', 'https://krisha.kz/a/show/661977796', 'https://krisha.kz/a/show/663576573', 'https://krisha.kz/a/show/55191948', 'https://krisha.kz/a/show/28891956', 'https://krisha.kz/a/show/664179921', 'https://krisha.kz/a/show/53167911', 'https://krisha.kz/a/show/663129090', 'https://krisha.kz/a/show/664595370', 'https://krisha.kz/a/show/664595332', 'https://krisha.kz/a/show/664595240', 'https://krisha.kz/a/show/662088633', 'https://krisha.kz/a/show/664272682', 'https://krisha.kz/a/show/663980382', 'https://krisha.kz/a/show/58319391', 'https://krisha.kz/a/show/664595103', 'https://krisha.kz/a/show/662109194', 'https://krisha.kz/a/show/664594995', 'https://krisha.kz/a/show/664168311', 'https://krisha.kz/a/show/664594879', 'https://krisha.kz/a/show/664594711', 'https://krisha.kz/a/show/663926479', 'https://krisha.kz/a/show/663260580', 'https://krisha.kz/a/show/663925898', 'https://krisha.kz/a/show/663924657', 'https://krisha.kz/a/show/664594745', 'https://krisha.kz/a/show/664380501', 'https://krisha.kz/a/show/662798388', 'https://krisha.kz/a/show/662764610', 'https://krisha.kz/a/show/58109911', 'https://krisha.kz/a/show/49230045', 'https://krisha.kz/a/show/663150990', 'https://krisha.kz/a/show/46576254', 'https://krisha.kz/a/show/660891425', 'https://krisha.kz/a/show/54891962', 'https://krisha.kz/a/show/664594159', 'https://krisha.kz/a/show/52998834', 'https://krisha.kz/a/show/663313139', 'https://krisha.kz/a/show/57531359', 'https://krisha.kz/a/show/55510648', 'https://krisha.kz/a/show/663902344', 'https://krisha.kz/a/show/57370812', 'https://krisha.kz/a/show/664338979', 'https://krisha.kz/a/show/662431783', 'https://krisha.kz/a/show/664594363', 'https://krisha.kz/a/show/664299440', 'https://krisha.kz/a/show/664134034', 'https://krisha.kz/a/show/663048958', 'https://krisha.kz/a/show/663754805', 'https://krisha.kz/a/show/664207461', 'https://krisha.kz/a/show/663272531', 'https://krisha.kz/a/show/663546809', 'https://krisha.kz/a/show/664438356', 'https://krisha.kz/a/show/52917847', 'https://krisha.kz/a/show/662873243', 'https://krisha.kz/a/show/52837502', 'https://krisha.kz/a/show/662205431', 'https://krisha.kz/a/show/664593518', 'https://krisha.kz/a/show/662425958', 'https://krisha.kz/a/show/57506760', 'https://krisha.kz/a/show/662701268', 'https://krisha.kz/a/show/664592862', 'https://krisha.kz/a/show/662817597', 'https://krisha.kz/a/show/663246592', 'https://krisha.kz/a/show/664593082', 'https://krisha.kz/a/show/56910409', 'https://krisha.kz/a/show/661312431', 'https://krisha.kz/a/show/661418079', 'https://krisha.kz/a/show/53292903', 'https://krisha.kz/a/show/49208306', 'https://krisha.kz/a/show/57481944', 'https://krisha.kz/a/show/48135402', 'https://krisha.kz/a/show/664441774', 'https://krisha.kz/a/show/663287862', 'https://krisha.kz/a/show/662663177', 'https://krisha.kz/a/show/54343484', 'https://krisha.kz/a/show/663858189', 'https://krisha.kz/a/show/664560174', 'https://krisha.kz/a/show/662930844', 'https://krisha.kz/a/show/662497700', 'https://krisha.kz/a/show/29190656', 'https://krisha.kz/a/show/48240366', 'https://krisha.kz/a/show/663259922', 'https://krisha.kz/a/show/662431727', 'https://krisha.kz/a/show/664591609', 'https://krisha.kz/a/show/662631569', 'https://krisha.kz/a/show/662214011', 'https://krisha.kz/a/show/662200960', 'https://krisha.kz/a/show/664290082', 'https://krisha.kz/a/show/662374615', 'https://krisha.kz/a/show/660913897', 'https://krisha.kz/a/show/663260026', 'https://krisha.kz/a/show/664440640', 'https://krisha.kz/a/show/55383434', 'https://krisha.kz/a/show/664440600', 'https://krisha.kz/a/show/30252792', 'https://krisha.kz/a/show/662121302', 'https://krisha.kz/a/show/664590873', 'https://krisha.kz/a/show/664590631', 'https://krisha.kz/a/show/664590757', 'https://krisha.kz/a/show/664590768', 'https://krisha.kz/a/show/662819347', 'https://krisha.kz/a/show/664589777', 'https://krisha.kz/a/show/663664469', 'https://krisha.kz/a/show/662671129', 'https://krisha.kz/a/show/661365602', 'https://krisha.kz/a/show/664590207', 'https://krisha.kz/a/show/662390403', 'https://krisha.kz/a/show/664590221', 'https://krisha.kz/a/show/664590210', 'https://krisha.kz/a/show/664439192', 'https://krisha.kz/a/show/663247162', 'https://krisha.kz/a/show/663247269', 'https://krisha.kz/a/show/664587908', 'https://krisha.kz/a/show/57162690', 'https://krisha.kz/a/show/47796733', 'https://krisha.kz/a/show/664590054', 'https://krisha.kz/a/show/661081614', 'https://krisha.kz/a/show/661272478', 'https://krisha.kz/a/show/664589018', 'https://krisha.kz/a/show/57833541', 'https://krisha.kz/a/show/663733313', 'https://krisha.kz/a/show/662170681', 'https://krisha.kz/a/show/664589073', 'https://krisha.kz/a/show/664589547', 'https://krisha.kz/a/show/660194732', 'https://krisha.kz/a/show/664589480', 'https://krisha.kz/a/show/664439220', 'https://krisha.kz/a/show/663171446', 'https://krisha.kz/a/show/664589506', 'https://krisha.kz/a/show/660520853', 'https://krisha.kz/a/show/58538653', 'https://krisha.kz/a/show/663927204', 'https://krisha.kz/a/show/663976517', 'https://krisha.kz/a/show/664589461', 'https://krisha.kz/a/show/664589348', 'https://krisha.kz/a/show/664586919', 'https://krisha.kz/a/show/663089447', 'https://krisha.kz/a/show/664438808', 'https://krisha.kz/a/show/664589083', 'https://krisha.kz/a/show/58319548', 'https://krisha.kz/a/show/57125382', 'https://krisha.kz/a/show/664588823', 'https://krisha.kz/a/show/57466242', 'https://krisha.kz/a/show/664294487', 'https://krisha.kz/a/show/664273978', 'https://krisha.kz/a/show/58422510', 'https://krisha.kz/a/show/664588451', 'https://krisha.kz/a/show/663231493', 'https://krisha.kz/a/show/57603677', 'https://krisha.kz/a/show/664438090', 'https://krisha.kz/a/show/662576200', 'https://krisha.kz/a/show/663253893', 'https://krisha.kz/a/show/30225637', 'https://krisha.kz/a/show/664588218', 'https://krisha.kz/a/show/664056211', 'https://krisha.kz/a/show/30188835', 'https://krisha.kz/a/show/664439496', 'https://krisha.kz/a/show/662434083', 'https://krisha.kz/a/show/662026691', 'https://krisha.kz/a/show/55669525', 'https://krisha.kz/a/show/664588084', 'https://krisha.kz/a/show/662373335', 'https://krisha.kz/a/show/660391756', 'https://krisha.kz/a/show/660385973', 'https://krisha.kz/a/show/58448396', 'https://krisha.kz/a/show/664587896', 'https://krisha.kz/a/show/664098449', 'https://krisha.kz/a/show/664330559', 'https://krisha.kz/a/show/663316702', 'https://krisha.kz/a/show/56988678', 'https://krisha.kz/a/show/54407660', 'https://krisha.kz/a/show/664587700', 'https://krisha.kz/a/show/663919654', 'https://krisha.kz/a/show/664587358', 'https://krisha.kz/a/show/53304301', 'https://krisha.kz/a/show/29341767', 'https://krisha.kz/a/show/663568764', 'https://krisha.kz/a/show/663873103', 'https://krisha.kz/a/show/662919491', 'https://krisha.kz/a/show/663929375', 'https://krisha.kz/a/show/663947243', 'https://krisha.kz/a/show/49161412', 'https://krisha.kz/a/show/664177798', 'https://krisha.kz/a/show/52210134', 'https://krisha.kz/a/show/664433330', 'https://krisha.kz/a/show/56275520', 'https://krisha.kz/a/show/52355305', 'https://krisha.kz/a/show/660785157', 'https://krisha.kz/a/show/664586372', 'https://krisha.kz/a/show/664183988', 'https://krisha.kz/a/show/53616080', 'https://krisha.kz/a/show/663163032', 'https://krisha.kz/a/show/664063682', 'https://krisha.kz/a/show/56427240', 'https://krisha.kz/a/show/663260432', 'https://krisha.kz/a/show/664586116', 'https://krisha.kz/a/show/57551707', 'https://krisha.kz/a/show/664277020', 'https://krisha.kz/a/show/661812318', 'https://krisha.kz/a/show/663197962', 'https://krisha.kz/a/show/663557042', 'https://krisha.kz/a/show/662424634', 'https://krisha.kz/a/show/664582197', 'https://krisha.kz/a/show/662642937', 'https://krisha.kz/a/show/663853096', 'https://krisha.kz/a/show/662953033', 'https://krisha.kz/a/show/661493736', 'https://krisha.kz/a/show/663928747', 'https://krisha.kz/a/show/663432463', 'https://krisha.kz/a/show/664508685', 'https://krisha.kz/a/show/663972880', 'https://krisha.kz/a/show/662724097', 'https://krisha.kz/a/show/664182216', 'https://krisha.kz/a/show/664290585', 'https://krisha.kz/a/show/662612926', 'https://krisha.kz/a/show/53167524', 'https://krisha.kz/a/show/51613671', 'https://krisha.kz/a/show/55199824', 'https://krisha.kz/a/show/664433872', 'https://krisha.kz/a/show/661142450', 'https://krisha.kz/a/show/57728720', 'https://krisha.kz/a/show/58247867', 'https://krisha.kz/a/show/26178985', 'https://krisha.kz/a/show/663972464', 'https://krisha.kz/a/show/664584486', 'https://krisha.kz/a/show/663965936', 'https://krisha.kz/a/show/25171095', 'https://krisha.kz/a/show/663171860', 'https://krisha.kz/a/show/663172514', 'https://krisha.kz/a/show/663774784', 'https://krisha.kz/a/show/663499743', 'https://krisha.kz/a/show/663597391', 'https://krisha.kz/a/show/663843106', 'https://krisha.kz/a/show/664290140', 'https://krisha.kz/a/show/663972357', 'https://krisha.kz/a/show/660310496', 'https://krisha.kz/a/show/58534776', 'https://krisha.kz/a/show/662335592', 'https://krisha.kz/a/show/664306984', 'https://krisha.kz/a/show/663232174', 'https://krisha.kz/a/show/661869559', 'https://krisha.kz/a/show/663596221', 'https://krisha.kz/a/show/662721200', 'https://krisha.kz/a/show/663899698', 'https://krisha.kz/a/show/661943932', 'https://krisha.kz/a/show/664087653', 'https://krisha.kz/a/show/663453896', 'https://krisha.kz/a/show/663323362', 'https://krisha.kz/a/show/664355010', 'https://krisha.kz/a/show/58501893', 'https://krisha.kz/a/show/663256257', 'https://krisha.kz/a/show/663484173', 'https://krisha.kz/a/show/30577021', 'https://krisha.kz/a/show/661119861', 'https://krisha.kz/a/show/660542421', 'https://krisha.kz/a/show/664034070', 'https://krisha.kz/a/show/660414086', 'https://krisha.kz/a/show/660755467', 'https://krisha.kz/a/show/54643942', 'https://krisha.kz/a/show/57889255', 'https://krisha.kz/a/show/660863435', 'https://krisha.kz/a/show/662121899', 'https://krisha.kz/a/show/47438395', 'https://krisha.kz/a/show/664583850', 'https://krisha.kz/a/show/663322763', 'https://krisha.kz/a/show/661965303', 'https://krisha.kz/a/show/664432987', 'https://krisha.kz/a/show/663711588', 'https://krisha.kz/a/show/663386462', 'https://krisha.kz/a/show/660235290', 'https://krisha.kz/a/show/660559087', 'https://krisha.kz/a/show/663848514', 'https://krisha.kz/a/show/664283529', 'https://krisha.kz/a/show/661616516', 'https://krisha.kz/a/show/663797358', 'https://krisha.kz/a/show/664330840', 'https://krisha.kz/a/show/664431237', 'https://krisha.kz/a/show/660203701', 'https://krisha.kz/a/show/56128403', 'https://krisha.kz/a/show/661774544', 'https://krisha.kz/a/show/664117159', 'https://krisha.kz/a/show/664006833', 'https://krisha.kz/a/show/663698346', 'https://krisha.kz/a/show/664231229', 'https://krisha.kz/a/show/662493433', 'https://krisha.kz/a/show/664592820', 'https://krisha.kz/a/show/664544865', 'https://krisha.kz/a/show/664591294', 'https://krisha.kz/a/show/664591116', 'https://krisha.kz/a/show/664591021', 'https://krisha.kz/a/show/664589481', 'https://krisha.kz/a/show/57078650', 'https://krisha.kz/a/show/53595501', 'https://krisha.kz/a/show/664395836', 'https://krisha.kz/a/show/664429886', 'https://krisha.kz/a/show/664584927', 'https://krisha.kz/a/show/660523294', 'https://krisha.kz/a/show/664122591', 'https://krisha.kz/a/show/57400189', 'https://krisha.kz/a/show/54619372', 'https://krisha.kz/a/show/52794089', 'https://krisha.kz/a/show/664569640', 'https://krisha.kz/a/show/664479371', 'https://krisha.kz/a/show/52795987', 'https://krisha.kz/a/show/664326811', 'https://krisha.kz/a/show/664573393', 'https://krisha.kz/a/show/663205390', 'https://krisha.kz/a/show/664545381', 'https://krisha.kz/a/show/664567362', 'https://krisha.kz/a/show/664492743', 'https://krisha.kz/a/show/663950926', 'https://krisha.kz/a/show/52759137', 'https://krisha.kz/a/show/664053412', 'https://krisha.kz/a/show/660062814', 'https://krisha.kz/a/show/664394630', 'https://krisha.kz/a/show/55975222', 'https://krisha.kz/a/show/56957315', 'https://krisha.kz/a/show/664582929', 'https://krisha.kz/a/show/664288540', 'https://krisha.kz/a/show/660056244', 'https://krisha.kz/a/show/55686955', 'https://krisha.kz/a/show/53418410', 'https://krisha.kz/a/show/664532418', 'https://krisha.kz/a/show/664582799', 'https://krisha.kz/a/show/58309445', 'https://krisha.kz/a/show/661362768', 'https://krisha.kz/a/show/663730968', 'https://krisha.kz/a/show/664582436', 'https://krisha.kz/a/show/664518573', 'https://krisha.kz/a/show/662832186', 'https://krisha.kz/a/show/664582072', 'https://krisha.kz/a/show/662832610', 'https://krisha.kz/a/show/664181825', 'https://krisha.kz/a/show/664582122', 'https://krisha.kz/a/show/52566994', 'https://krisha.kz/a/show/664431491', 'https://krisha.kz/a/show/55424033', 'https://krisha.kz/a/show/664288140', 'https://krisha.kz/a/show/30464328', 'https://krisha.kz/a/show/664451607', 'https://krisha.kz/a/show/663994679', 'https://krisha.kz/a/show/56278553', 'https://krisha.kz/a/show/57320274', 'https://krisha.kz/a/show/661750672', 'https://krisha.kz/a/show/30222362', 'https://krisha.kz/a/show/663592232', 'https://krisha.kz/a/show/662825134', 'https://krisha.kz/a/show/661592030', 'https://krisha.kz/a/show/663970268', 'https://krisha.kz/a/show/662112153', 'https://krisha.kz/a/show/664178633', 'https://krisha.kz/a/show/54716691', 'https://krisha.kz/a/show/664430770', 'https://krisha.kz/a/show/50640091', 'https://krisha.kz/a/show/660725940', 'https://krisha.kz/a/show/663970046', 'https://krisha.kz/a/show/663472554', 'https://krisha.kz/a/show/664580840', 'https://krisha.kz/a/show/48391444', 'https://krisha.kz/a/show/661804885', 'https://krisha.kz/a/show/53512769', 'https://krisha.kz/a/show/660147852', 'https://krisha.kz/a/show/664429693', 'https://krisha.kz/a/show/660232538', 'https://krisha.kz/a/show/56559902', 'https://krisha.kz/a/show/664580831', 'https://krisha.kz/a/show/664430181', 'https://krisha.kz/a/show/664580668', 'https://krisha.kz/a/show/662623516', 'https://krisha.kz/a/show/664580378', 'https://krisha.kz/a/show/663152016', 'https://krisha.kz/a/show/55110279', 'https://krisha.kz/a/show/54107511', 'https://krisha.kz/a/show/663866963', 'https://krisha.kz/a/show/664305131', 'https://krisha.kz/a/show/664285999', 'https://krisha.kz/a/show/56699772', 'https://krisha.kz/a/show/56098432', 'https://krisha.kz/a/show/664286065', 'https://krisha.kz/a/show/57796658', 'https://krisha.kz/a/show/53088204', 'https://krisha.kz/a/show/664429032', 'https://krisha.kz/a/show/663559109', 'https://krisha.kz/a/show/52834840', 'https://krisha.kz/a/show/664579486', 'https://krisha.kz/a/show/664285338', 'https://krisha.kz/a/show/664579701', 'https://krisha.kz/a/show/664428702', 'https://krisha.kz/a/show/56480021', 'https://krisha.kz/a/show/664283853', 'https://krisha.kz/a/show/57765611', 'https://krisha.kz/a/show/664038590', 'https://krisha.kz/a/show/661700492', 'https://krisha.kz/a/show/58552147', 'https://krisha.kz/a/show/664072489', 'https://krisha.kz/a/show/664303031', 'https://krisha.kz/a/show/663983273', 'https://krisha.kz/a/show/25738594', 'https://krisha.kz/a/show/664091577', 'https://krisha.kz/a/show/663615153', 'https://krisha.kz/a/show/57862341', 'https://krisha.kz/a/show/663842991', 'https://krisha.kz/a/show/664065123', 'https://krisha.kz/a/show/51886162', 'https://krisha.kz/a/show/57906503', 'https://krisha.kz/a/show/664578021', 'https://krisha.kz/a/show/660461359', 'https://krisha.kz/a/show/56698641', 'https://krisha.kz/a/show/660722324', 'https://krisha.kz/a/show/660529584', 'https://krisha.kz/a/show/54528954', 'https://krisha.kz/a/show/664283847', 'https://krisha.kz/a/show/664283669', 'https://krisha.kz/a/show/663106129', 'https://krisha.kz/a/show/661551958', 'https://krisha.kz/a/show/663026447', 'https://krisha.kz/a/show/50004006', 'https://krisha.kz/a/show/662343172', 'https://krisha.kz/a/show/25614407', 'https://krisha.kz/a/show/58404793', 'https://krisha.kz/a/show/664576397', 'https://krisha.kz/a/show/662041148', 'https://krisha.kz/a/show/58496430', 'https://krisha.kz/a/show/54583958', 'https://krisha.kz/a/show/664576485', 'https://krisha.kz/a/show/662513106', 'https://krisha.kz/a/show/48935917', 'https://krisha.kz/a/show/661204384', 'https://krisha.kz/a/show/661077350', 'https://krisha.kz/a/show/52808676', 'https://krisha.kz/a/show/30786104', 'https://krisha.kz/a/show/51830036', 'https://krisha.kz/a/show/661464793', 'https://krisha.kz/a/show/57924946', 'https://krisha.kz/a/show/661133955', 'https://krisha.kz/a/show/58112564', 'https://krisha.kz/a/show/662483933', 'https://krisha.kz/a/show/30627664', 'https://krisha.kz/a/show/663243605', 'https://krisha.kz/a/show/55876787', 'https://krisha.kz/a/show/663215281', 'https://krisha.kz/a/show/661022565', 'https://krisha.kz/a/show/27194692', 'https://krisha.kz/a/show/57253786', 'https://krisha.kz/a/show/662633208', 'https://krisha.kz/a/show/660925253', 'https://krisha.kz/a/show/57874017', 'https://krisha.kz/a/show/661230799', 'https://krisha.kz/a/show/664167835', 'https://krisha.kz/a/show/660081941', 'https://krisha.kz/a/show/663840947', 'https://krisha.kz/a/show/662348461', 'https://krisha.kz/a/show/663783222', 'https://krisha.kz/a/show/662111263', 'https://krisha.kz/a/show/51066672', 'https://krisha.kz/a/show/58116632', 'https://krisha.kz/a/show/661614170', 'https://krisha.kz/a/show/21924166', 'https://krisha.kz/a/show/58503064', 'https://krisha.kz/a/show/663840020', 'https://krisha.kz/a/show/57817828', 'https://krisha.kz/a/show/53835549', 'https://krisha.kz/a/show/662220448', 'https://krisha.kz/a/show/664572458', 'https://krisha.kz/a/show/664572398', 'https://krisha.kz/a/show/663963815', 'https://krisha.kz/a/show/660665071', 'https://krisha.kz/a/show/57284137', 'https://krisha.kz/a/show/664572000', 'https://krisha.kz/a/show/663963654', 'https://krisha.kz/a/show/664571978', 'https://krisha.kz/a/show/28401993', 'https://krisha.kz/a/show/661751506', 'https://krisha.kz/a/show/55003349', 'https://krisha.kz/a/show/55621665', 'https://krisha.kz/a/show/660205112', 'https://krisha.kz/a/show/57608690', 'https://krisha.kz/a/show/660065636', 'https://krisha.kz/a/show/661928028', 'https://krisha.kz/a/show/55842691', 'https://krisha.kz/a/show/30006360', 'https://krisha.kz/a/show/662489047', 'https://krisha.kz/a/show/662078680', 'https://krisha.kz/a/show/661149163', 'https://krisha.kz/a/show/663962687', 'https://krisha.kz/a/show/54942867', 'https://krisha.kz/a/show/660648592', 'https://krisha.kz/a/show/57453429', 'https://krisha.kz/a/show/58264219', 'https://krisha.kz/a/show/663962464', 'https://krisha.kz/a/show/661738509', 'https://krisha.kz/a/show/662333180', 'https://krisha.kz/a/show/662061135', 'https://krisha.kz/a/show/664570051', 'https://krisha.kz/a/show/663775629', 'https://krisha.kz/a/show/662142576', 'https://krisha.kz/a/show/663260029', 'https://krisha.kz/a/show/663921672', 'https://krisha.kz/a/show/663231724', 'https://krisha.kz/a/show/664293925', 'https://krisha.kz/a/show/58523117', 'https://krisha.kz/a/show/52424118', 'https://krisha.kz/a/show/661871203', 'https://krisha.kz/a/show/661460769', 'https://krisha.kz/a/show/664277728', 'https://krisha.kz/a/show/661575607', 'https://krisha.kz/a/show/50224921', 'https://krisha.kz/a/show/664277547', 'https://krisha.kz/a/show/58187682', 'https://krisha.kz/a/show/57741354', 'https://krisha.kz/a/show/664418333', 'https://krisha.kz/a/show/52881819', 'https://krisha.kz/a/show/664175322', 'https://krisha.kz/a/show/660059925', 'https://krisha.kz/a/show/664084982', 'https://krisha.kz/a/show/58524014', 'https://krisha.kz/a/show/663621708', 'https://krisha.kz/a/show/662110347', 'https://krisha.kz/a/show/663836907', 'https://krisha.kz/a/show/664417950', 'https://krisha.kz/a/show/58444647', 'https://krisha.kz/a/show/664568726', 'https://krisha.kz/a/show/52882426', 'https://krisha.kz/a/show/661649385', 'https://krisha.kz/a/show/662114025', 'https://krisha.kz/a/show/664084249', 'https://krisha.kz/a/show/57613910', 'https://krisha.kz/a/show/46364037', 'https://krisha.kz/a/show/662878299', 'https://krisha.kz/a/show/660880270', 'https://krisha.kz/a/show/660875823', 'https://krisha.kz/a/show/663168783', 'https://krisha.kz/a/show/664567439', 'https://krisha.kz/a/show/664567615', 'https://krisha.kz/a/show/664276304', 'https://krisha.kz/a/show/663776038', 'https://krisha.kz/a/show/663894494', 'https://krisha.kz/a/show/55803306', 'https://krisha.kz/a/show/664567356', 'https://krisha.kz/a/show/19929671', 'https://krisha.kz/a/show/664567138', 'https://krisha.kz/a/show/664567043', 'https://krisha.kz/a/show/50214963', 'https://krisha.kz/a/show/664566923', 'https://krisha.kz/a/show/664566744', 'https://krisha.kz/a/show/664083083', 'https://krisha.kz/a/show/54567956', 'https://krisha.kz/a/show/662397125', 'https://krisha.kz/a/show/664566557', 'https://krisha.kz/a/show/660811322', 'https://krisha.kz/a/show/56328384', 'https://krisha.kz/a/show/664197475', 'https://krisha.kz/a/show/661563354', 'https://krisha.kz/a/show/664566184', 'https://krisha.kz/a/show/661638070', 'https://krisha.kz/a/show/663886479', 'https://krisha.kz/a/show/664414982', 'https://krisha.kz/a/show/663910877', 'https://krisha.kz/a/show/660981832', 'https://krisha.kz/a/show/663143665', 'https://krisha.kz/a/show/664565889', 'https://krisha.kz/a/show/664207148', 'https://krisha.kz/a/show/663827276', 'https://krisha.kz/a/show/664288687', 'https://krisha.kz/a/show/664565759', 'https://krisha.kz/a/show/50329403', 'https://krisha.kz/a/show/664392763', 'https://krisha.kz/a/show/53639248', 'https://krisha.kz/a/show/48762144', 'https://krisha.kz/a/show/664565448', 'https://krisha.kz/a/show/17923064', 'https://krisha.kz/a/show/664435533', 'https://krisha.kz/a/show/664565329', 'https://krisha.kz/a/show/663958748', 'https://krisha.kz/a/show/663101961', 'https://krisha.kz/a/show/46955202', 'https://krisha.kz/a/show/663261515', 'https://krisha.kz/a/show/664564436', 'https://krisha.kz/a/show/23776930', 'https://krisha.kz/a/show/662933560', 'https://krisha.kz/a/show/664273554', 'https://krisha.kz/a/show/664564178', 'https://krisha.kz/a/show/661923823', 'https://krisha.kz/a/show/663328976', 'https://krisha.kz/a/show/662840467', 'https://krisha.kz/a/show/660792787', 'https://krisha.kz/a/show/662305125', 'https://krisha.kz/a/show/664482497', 'https://krisha.kz/a/show/661254401', 'https://krisha.kz/a/show/661021664', 'https://krisha.kz/a/show/664154487', 'https://krisha.kz/a/show/664395786', 'https://krisha.kz/a/show/664260249', 'https://krisha.kz/a/show/663297971', 'https://krisha.kz/a/show/57719711', 'https://krisha.kz/a/show/660878039', 'https://krisha.kz/a/show/664550374', 'https://krisha.kz/a/show/663760326', 'https://krisha.kz/a/show/664096912', 'https://krisha.kz/a/show/664414369', 'https://krisha.kz/a/show/57172383', 'https://krisha.kz/a/show/664265095', 'https://krisha.kz/a/show/664356454', 'https://krisha.kz/a/show/663697967', 'https://krisha.kz/a/show/663978385', 'https://krisha.kz/a/show/52653318', 'https://krisha.kz/a/show/663769425', 'https://krisha.kz/a/show/55533220', 'https://krisha.kz/a/show/664268918', 'https://krisha.kz/a/show/661824492', 'https://krisha.kz/a/show/664192353', 'https://krisha.kz/a/show/664096161', 'https://krisha.kz/a/show/663216401', 'https://krisha.kz/a/show/57369196', 'https://krisha.kz/a/show/46621382', 'https://krisha.kz/a/show/663179036', 'https://krisha.kz/a/show/48269817', 'https://krisha.kz/a/show/663183056', 'https://krisha.kz/a/show/664078596', 'https://krisha.kz/a/show/661366744', 'https://krisha.kz/a/show/54905826', 'https://krisha.kz/a/show/663236719', 'https://krisha.kz/a/show/663106254', 'https://krisha.kz/a/show/662878595', 'https://krisha.kz/a/show/664271692', 'https://krisha.kz/a/show/664094780', 'https://krisha.kz/a/show/661442848', 'https://krisha.kz/a/show/58034239', 'https://krisha.kz/a/show/664023129', 'https://krisha.kz/a/show/20045407', 'https://krisha.kz/a/show/58269885', 'https://krisha.kz/a/show/57610169', 'https://krisha.kz/a/show/55616334', 'https://krisha.kz/a/show/663829507', 'https://krisha.kz/a/show/660211995', 'https://krisha.kz/a/show/663605551', 'https://krisha.kz/a/show/664306547', 'https://krisha.kz/a/show/664410309', 'https://krisha.kz/a/show/660054312', 'https://krisha.kz/a/show/664078295', 'https://krisha.kz/a/show/663682832', 'https://krisha.kz/a/show/661177942', 'https://krisha.kz/a/show/56822956', 'https://krisha.kz/a/show/664560933', 'https://krisha.kz/a/show/664560870', 'https://krisha.kz/a/show/664410235', 'https://krisha.kz/a/show/664410211', 'https://krisha.kz/a/show/664271067', 'https://krisha.kz/a/show/51957575', 'https://krisha.kz/a/show/57474265', 'https://krisha.kz/a/show/663322502', 'https://krisha.kz/a/show/664019881', 'https://krisha.kz/a/show/54193799', 'https://krisha.kz/a/show/57090616', 'https://krisha.kz/a/show/662138565', 'https://krisha.kz/a/show/661962727', 'https://krisha.kz/a/show/661807855', 'https://krisha.kz/a/show/664171732', 'https://krisha.kz/a/show/663553345', 'https://krisha.kz/a/show/664130196', 'https://krisha.kz/a/show/662179433', 'https://krisha.kz/a/show/57649713', 'https://krisha.kz/a/show/664187638', 'https://krisha.kz/a/show/663111548', 'https://krisha.kz/a/show/663674622', 'https://krisha.kz/a/show/660415297', 'https://krisha.kz/a/show/664359124', 'https://krisha.kz/a/show/663870501', 'https://krisha.kz/a/show/663311407', 'https://krisha.kz/a/show/661651640', 'https://krisha.kz/a/show/21724944', 'https://krisha.kz/a/show/664186701', 'https://krisha.kz/a/show/663712108', 'https://krisha.kz/a/show/664575225', 'https://krisha.kz/a/show/664574181', 'https://krisha.kz/a/show/664571063', 'https://krisha.kz/a/show/664570827', 'https://krisha.kz/a/show/664570638', 'https://krisha.kz/a/show/664570468', 'https://krisha.kz/a/show/664570213', 'https://krisha.kz/a/show/664399993', 'https://krisha.kz/a/show/664568673', 'https://krisha.kz/a/show/664568281', 'https://krisha.kz/a/show/664567949', 'https://krisha.kz/a/show/664567190', 'https://krisha.kz/a/show/664566764', 'https://krisha.kz/a/show/664566433', 'https://krisha.kz/a/show/664002547', 'https://krisha.kz/a/show/664566172', 'https://krisha.kz/a/show/664564577', 'https://krisha.kz/a/show/664378172', 'https://krisha.kz/a/show/660683186', 'https://krisha.kz/a/show/662079351', 'https://krisha.kz/a/show/660937611', 'https://krisha.kz/a/show/660687236', 'https://krisha.kz/a/show/664564249', 'https://krisha.kz/a/show/664564182', 'https://krisha.kz/a/show/664551898', 'https://krisha.kz/a/show/664563707', 'https://krisha.kz/a/show/664562551', 'https://krisha.kz/a/show/664562417', 'https://krisha.kz/a/show/664562392', 'https://krisha.kz/a/show/664562346', 'https://krisha.kz/a/show/664179781', 'https://krisha.kz/a/show/664561836', 'https://krisha.kz/a/show/663423282', 'https://krisha.kz/a/show/664146162', 'https://krisha.kz/a/show/664543688', 'https://krisha.kz/a/show/664010013', 'https://krisha.kz/a/show/661962173', 'https://krisha.kz/a/show/662938176', 'https://krisha.kz/a/show/664409908', 'https://krisha.kz/a/show/664370498', 'https://krisha.kz/a/show/663409066', 'https://krisha.kz/a/show/664484950', 'https://krisha.kz/a/show/664553009', 'https://krisha.kz/a/show/661263549', 'https://krisha.kz/a/show/664202494', 'https://krisha.kz/a/show/662084007', 'https://krisha.kz/a/show/664454847', 'https://krisha.kz/a/show/53148402', 'https://krisha.kz/a/show/30665605', 'https://krisha.kz/a/show/664288293', 'https://krisha.kz/a/show/660834230', 'https://krisha.kz/a/show/664431109', 'https://krisha.kz/a/show/661268894', 'https://krisha.kz/a/show/664077708', 'https://krisha.kz/a/show/663299862', 'https://krisha.kz/a/show/661970708', 'https://krisha.kz/a/show/664559715', 'https://krisha.kz/a/show/663552669', 'https://krisha.kz/a/show/54646358', 'https://krisha.kz/a/show/663828438', 'https://krisha.kz/a/show/58143313', 'https://krisha.kz/a/show/660722419', 'https://krisha.kz/a/show/663474713', 'https://krisha.kz/a/show/664076949', 'https://krisha.kz/a/show/662227270', 'https://krisha.kz/a/show/663211454', 'https://krisha.kz/a/show/664269296', 'https://krisha.kz/a/show/661822987', 'https://krisha.kz/a/show/660912276', 'https://krisha.kz/a/show/661700826', 'https://krisha.kz/a/show/54143264', 'https://krisha.kz/a/show/664408593', 'https://krisha.kz/a/show/58359329', 'https://krisha.kz/a/show/46969552', 'https://krisha.kz/a/show/663827719', 'https://krisha.kz/a/show/664559007', 'https://krisha.kz/a/show/55741536', 'https://krisha.kz/a/show/661240108', 'https://krisha.kz/a/show/664558780', 'https://krisha.kz/a/show/664429629', 'https://krisha.kz/a/show/664558564', 'https://krisha.kz/a/show/664076199', 'https://krisha.kz/a/show/661833622', 'https://krisha.kz/a/show/57427359', 'https://krisha.kz/a/show/664558077', 'https://krisha.kz/a/show/660609733', 'https://krisha.kz/a/show/48810591', 'https://krisha.kz/a/show/661597561', 'https://krisha.kz/a/show/47407366', 'https://krisha.kz/a/show/664557768', 'https://krisha.kz/a/show/664557601', 'https://krisha.kz/a/show/660130427', 'https://krisha.kz/a/show/660080369', 'https://krisha.kz/a/show/664557486', 'https://krisha.kz/a/show/663953703', 'https://krisha.kz/a/show/660408944', 'https://krisha.kz/a/show/664284571', 'https://krisha.kz/a/show/58238233', 'https://krisha.kz/a/show/661227574', 'https://krisha.kz/a/show/661261280', 'https://krisha.kz/a/show/664267730', 'https://krisha.kz/a/show/660847795', 'https://krisha.kz/a/show/663030388', 'https://krisha.kz/a/show/58449937', 'https://krisha.kz/a/show/664557027', 'https://krisha.kz/a/show/662726661', 'https://krisha.kz/a/show/51264383', 'https://krisha.kz/a/show/51554640', 'https://krisha.kz/a/show/664392803', 'https://krisha.kz/a/show/29274527', 'https://krisha.kz/a/show/664369014', 'https://krisha.kz/a/show/664267046', 'https://krisha.kz/a/show/663876822', 'https://krisha.kz/a/show/663644229', 'https://krisha.kz/a/show/664556343', 'https://krisha.kz/a/show/661322401', 'https://krisha.kz/a/show/664556022', 'https://krisha.kz/a/show/663327936', 'https://krisha.kz/a/show/50372034', 'https://krisha.kz/a/show/664555826', 'https://krisha.kz/a/show/660069537', 'https://krisha.kz/a/show/664298006', 'https://krisha.kz/a/show/50125604', 'https://krisha.kz/a/show/54776615', 'https://krisha.kz/a/show/51024179', 'https://krisha.kz/a/show/664416636', 'https://krisha.kz/a/show/49284269', 'https://krisha.kz/a/show/50268304', 'https://krisha.kz/a/show/664549010', 'https://krisha.kz/a/show/662616737', 'https://krisha.kz/a/show/664554578', 'https://krisha.kz/a/show/663704837', 'https://krisha.kz/a/show/664217932', 'https://krisha.kz/a/show/663227398', 'https://krisha.kz/a/show/663548268', 'https://krisha.kz/a/show/664482668', 'https://krisha.kz/a/show/662460685', 'https://krisha.kz/a/show/57086020', 'https://krisha.kz/a/show/664553834', 'https://krisha.kz/a/show/664553812', 'https://krisha.kz/a/show/56431132', 'https://krisha.kz/a/show/663393995', 'https://krisha.kz/a/show/664072595', 'https://krisha.kz/a/show/28433548', 'https://krisha.kz/a/show/58493421', 'https://krisha.kz/a/show/661403250', 'https://krisha.kz/a/show/54143828', 'https://krisha.kz/a/show/664403123', 'https://krisha.kz/a/show/661525129', 'https://krisha.kz/a/show/662825232', 'https://krisha.kz/a/show/663306312', 'https://krisha.kz/a/show/55722080', 'https://krisha.kz/a/show/664164211', 'https://krisha.kz/a/show/660444664', 'https://krisha.kz/a/show/57754843', 'https://krisha.kz/a/show/661386513', 'https://krisha.kz/a/show/662582758', 'https://krisha.kz/a/show/660177585', 'https://krisha.kz/a/show/661699960', 'https://krisha.kz/a/show/664067501', 'https://krisha.kz/a/show/664403577', 'https://krisha.kz/a/show/58370537', 'https://krisha.kz/a/show/664415350', 'https://krisha.kz/a/show/664499637', 'https://krisha.kz/a/show/664517610', 'https://krisha.kz/a/show/58584278', 'https://krisha.kz/a/show/664552450', 'https://krisha.kz/a/show/662776812', 'https://krisha.kz/a/show/663599323', 'https://krisha.kz/a/show/662053943', 'https://krisha.kz/a/show/660252976', 'https://krisha.kz/a/show/663979771', 'https://krisha.kz/a/show/663499112', 'https://krisha.kz/a/show/664263517', 'https://krisha.kz/a/show/664402829', 'https://krisha.kz/a/show/50692773', 'https://krisha.kz/a/show/661123641', 'https://krisha.kz/a/show/57011413', 'https://krisha.kz/a/show/663360666', 'https://krisha.kz/a/show/661207933', 'https://krisha.kz/a/show/57672938', 'https://krisha.kz/a/show/30167236', 'https://krisha.kz/a/show/664551023', 'https://krisha.kz/a/show/661829824', 'https://krisha.kz/a/show/49500952', 'https://krisha.kz/a/show/57247737', 'https://krisha.kz/a/show/48159871', 'https://krisha.kz/a/show/661410067', 'https://krisha.kz/a/show/28405394', 'https://krisha.kz/a/show/663949266', 'https://krisha.kz/a/show/661539186', 'https://krisha.kz/a/show/663018734', 'https://krisha.kz/a/show/661778359', 'https://krisha.kz/a/show/664022304', 'https://krisha.kz/a/show/661821132', 'https://krisha.kz/a/show/662909673', 'https://krisha.kz/a/show/664549970', 'https://krisha.kz/a/show/58237547', 'https://krisha.kz/a/show/47905685', 'https://krisha.kz/a/show/663563807', 'https://krisha.kz/a/show/662229023', 'https://krisha.kz/a/show/664169351', 'https://krisha.kz/a/show/664549746', 'https://krisha.kz/a/show/57968019', 'https://krisha.kz/a/show/661326779', 'https://krisha.kz/a/show/660886713', 'https://krisha.kz/a/show/660450654', 'https://krisha.kz/a/show/664206832', 'https://krisha.kz/a/show/661608803', 'https://krisha.kz/a/show/662093442', 'https://krisha.kz/a/show/54645420', 'https://krisha.kz/a/show/56142133', 'https://krisha.kz/a/show/664547782', 'https://krisha.kz/a/show/56894024', 'https://krisha.kz/a/show/664547868', 'https://krisha.kz/a/show/57468170', 'https://krisha.kz/a/show/662149318', 'https://krisha.kz/a/show/664251526', 'https://krisha.kz/a/show/56960722', 'https://krisha.kz/a/show/58208766', 'https://krisha.kz/a/show/663216556', 'https://krisha.kz/a/show/58077957', 'https://krisha.kz/a/show/662199070', 'https://krisha.kz/a/show/57454385', 'https://krisha.kz/a/show/58339089', 'https://krisha.kz/a/show/664418446', 'https://krisha.kz/a/show/662840217', 'https://krisha.kz/a/show/664168689', 'https://krisha.kz/a/show/662331347', 'https://krisha.kz/a/show/662265734', 'https://krisha.kz/a/show/664546907', 'https://krisha.kz/a/show/664546849', 'https://krisha.kz/a/show/662253688', 'https://krisha.kz/a/show/664546738', 'https://krisha.kz/a/show/58036159', 'https://krisha.kz/a/show/52012437', 'https://krisha.kz/a/show/664398016', 'https://krisha.kz/a/show/57018127', 'https://krisha.kz/a/show/30628830', 'https://krisha.kz/a/show/662156730', 'https://krisha.kz/a/show/664258377', 'https://krisha.kz/a/show/663840486', 'https://krisha.kz/a/show/663245926', 'https://krisha.kz/a/show/664244294', 'https://krisha.kz/a/show/663569430', 'https://krisha.kz/a/show/661059089', 'https://krisha.kz/a/show/57143609', 'https://krisha.kz/a/show/57896637', 'https://krisha.kz/a/show/664258003', 'https://krisha.kz/a/show/55355608', 'https://krisha.kz/a/show/664535821', 'https://krisha.kz/a/show/53535540', 'https://krisha.kz/a/show/48033554', 'https://krisha.kz/a/show/49728180', 'https://krisha.kz/a/show/664545944', 'https://krisha.kz/a/show/664257656', 'https://krisha.kz/a/show/57671257', 'https://krisha.kz/a/show/58133326', 'https://krisha.kz/a/show/662982276', 'https://krisha.kz/a/show/58314146', 'https://krisha.kz/a/show/54481353', 'https://krisha.kz/a/show/660998794', 'https://krisha.kz/a/show/660481590', 'https://krisha.kz/a/show/57567397', 'https://krisha.kz/a/show/663028969', 'https://krisha.kz/a/show/662329938', 'https://krisha.kz/a/show/662379947', 'https://krisha.kz/a/show/663333301', 'https://krisha.kz/a/show/661643599', 'https://krisha.kz/a/show/663903709', 'https://krisha.kz/a/show/664544925', 'https://krisha.kz/a/show/57909684', 'https://krisha.kz/a/show/663233290', 'https://krisha.kz/a/show/660781260', 'https://krisha.kz/a/show/661324177', 'https://krisha.kz/a/show/663414273', 'https://krisha.kz/a/show/661632993', 'https://krisha.kz/a/show/664281668', 'https://krisha.kz/a/show/58568590', 'https://krisha.kz/a/show/54774324', 'https://krisha.kz/a/show/58416192', 'https://krisha.kz/a/show/663672465', 'https://krisha.kz/a/show/55478061', 'https://krisha.kz/a/show/664256027', 'https://krisha.kz/a/show/664395444', 'https://krisha.kz/a/show/663945000', 'https://krisha.kz/a/show/664395193', 'https://krisha.kz/a/show/57103598', 'https://krisha.kz/a/show/664064709', 'https://krisha.kz/a/show/664543761', 'https://krisha.kz/a/show/661694639', 'https://krisha.kz/a/show/58243800', 'https://krisha.kz/a/show/51528446', 'https://krisha.kz/a/show/664417093', 'https://krisha.kz/a/show/660245651', 'https://krisha.kz/a/show/663342622', 'https://krisha.kz/a/show/662420140', 'https://krisha.kz/a/show/663185538', 'https://krisha.kz/a/show/660815368', 'https://krisha.kz/a/show/661987182', 'https://krisha.kz/a/show/56543781', 'https://krisha.kz/a/show/664543751', 'https://krisha.kz/a/show/664543764', 'https://krisha.kz/a/show/55466472', 'https://krisha.kz/a/show/47083421', 'https://krisha.kz/a/show/664162251', 'https://krisha.kz/a/show/661232055', 'https://krisha.kz/a/show/664394103', 'https://krisha.kz/a/show/663759501', 'https://krisha.kz/a/show/663343713', 'https://krisha.kz/a/show/661944169', 'https://krisha.kz/a/show/664541981', 'https://krisha.kz/a/show/50069944', 'https://krisha.kz/a/show/661380091', 'https://krisha.kz/a/show/664063527', 'https://krisha.kz/a/show/50557612', 'https://krisha.kz/a/show/664541923', 'https://krisha.kz/a/show/664081408', 'https://krisha.kz/a/show/29200701', 'https://krisha.kz/a/show/660612186', 'https://krisha.kz/a/show/661641055', 'https://krisha.kz/a/show/664541829', 'https://krisha.kz/a/show/662098581', 'https://krisha.kz/a/show/664393081', 'https://krisha.kz/a/show/57457530', 'https://krisha.kz/a/show/662227857', 'https://krisha.kz/a/show/55941485', 'https://krisha.kz/a/show/53630730', 'https://krisha.kz/a/show/56370843', 'https://krisha.kz/a/show/664541632', 'https://krisha.kz/a/show/662189056', 'https://krisha.kz/a/show/663709760', 'https://krisha.kz/a/show/664541553', 'https://krisha.kz/a/show/664541437', 'https://krisha.kz/a/show/57871471', 'https://krisha.kz/a/show/56500094', 'https://krisha.kz/a/show/664541261', 'https://krisha.kz/a/show/663461375', 'https://krisha.kz/a/show/664541155', 'https://krisha.kz/a/show/663322395', 'https://krisha.kz/a/show/664540892', 'https://krisha.kz/a/show/664388717', 'https://krisha.kz/a/show/661160106', 'https://krisha.kz/a/show/664540265', 'https://krisha.kz/a/show/664540802', 'https://krisha.kz/a/show/664243866', 'https://krisha.kz/a/show/664540634', 'https://krisha.kz/a/show/664540522', 'https://krisha.kz/a/show/664391748', 'https://krisha.kz/a/show/663465150', 'https://krisha.kz/a/show/663869109', 'https://krisha.kz/a/show/664540310', 'https://krisha.kz/a/show/55881838', 'https://krisha.kz/a/show/664540232', 'https://krisha.kz/a/show/664540141', 'https://krisha.kz/a/show/50445782', 'https://krisha.kz/a/show/664539905', 'https://krisha.kz/a/show/664539790', 'https://krisha.kz/a/show/661077108', 'https://krisha.kz/a/show/46416586', 'https://krisha.kz/a/show/663686947', 'https://krisha.kz/a/show/664251354', 'https://krisha.kz/a/show/56440611', 'https://krisha.kz/a/show/664390209', 'https://krisha.kz/a/show/23796310', 'https://krisha.kz/a/show/56878879', 'https://krisha.kz/a/show/664385711', 'https://krisha.kz/a/show/664385782', 'https://krisha.kz/a/show/58331525', 'https://krisha.kz/a/show/663621712', 'https://krisha.kz/a/show/50971475', 'https://krisha.kz/a/show/58036378', 'https://krisha.kz/a/show/664538574', 'https://krisha.kz/a/show/57911076', 'https://krisha.kz/a/show/56276936', 'https://krisha.kz/a/show/57867851', 'https://krisha.kz/a/show/662318723', 'https://krisha.kz/a/show/57379080', 'https://krisha.kz/a/show/57018928', 'https://krisha.kz/a/show/662733113', 'https://krisha.kz/a/show/664271362', 'https://krisha.kz/a/show/663152083', 'https://krisha.kz/a/show/55366706', 'https://krisha.kz/a/show/57489846', 'https://krisha.kz/a/show/58094176', 'https://krisha.kz/a/show/58145636', 'https://krisha.kz/a/show/54432378', 'https://krisha.kz/a/show/663732489', 'https://krisha.kz/a/show/661419820', 'https://krisha.kz/a/show/663915290', 'https://krisha.kz/a/show/663284514', 'https://krisha.kz/a/show/663501888', 'https://krisha.kz/a/show/660599187', 'https://krisha.kz/a/show/664389019', 'https://krisha.kz/a/show/664388969', 'https://krisha.kz/a/show/662876743', 'https://krisha.kz/a/show/664288359', 'https://krisha.kz/a/show/660905908', 'https://krisha.kz/a/show/56869344', 'https://krisha.kz/a/show/662721468', 'https://krisha.kz/a/show/58618464', 'https://krisha.kz/a/show/664016558', 'https://krisha.kz/a/show/58206793', 'https://krisha.kz/a/show/21259448', 'https://krisha.kz/a/show/664285429', 'https://krisha.kz/a/show/53607548', 'https://krisha.kz/a/show/664023871', 'https://krisha.kz/a/show/663686398', 'https://krisha.kz/a/show/663664873', 'https://krisha.kz/a/show/664287788', 'https://krisha.kz/a/show/663600201', 'https://krisha.kz/a/show/57974885', 'https://krisha.kz/a/show/664077634', 'https://krisha.kz/a/show/663783659', 'https://krisha.kz/a/show/663939320', 'https://krisha.kz/a/show/664163482', 'https://krisha.kz/a/show/660184562', 'https://krisha.kz/a/show/663505591', 'https://krisha.kz/a/show/664286758', 'https://krisha.kz/a/show/52764843', 'https://krisha.kz/a/show/54240804', 'https://krisha.kz/a/show/660714120', 'https://krisha.kz/a/show/663954993', 'https://krisha.kz/a/show/664239680', 'https://krisha.kz/a/show/662248365', 'https://krisha.kz/a/show/664020539', 'https://krisha.kz/a/show/663761964', 'https://krisha.kz/a/show/661104565', 'https://krisha.kz/a/show/662993207', 'https://krisha.kz/a/show/663467572', 'https://krisha.kz/a/show/663465885', 'https://krisha.kz/a/show/664078328', 'https://krisha.kz/a/show/664304956', 'https://krisha.kz/a/show/664551063', 'https://krisha.kz/a/show/664549005', 'https://krisha.kz/a/show/664548578', 'https://krisha.kz/a/show/664548601', 'https://krisha.kz/a/show/664548437', 'https://krisha.kz/a/show/664548213', 'https://krisha.kz/a/show/664548030', 'https://krisha.kz/a/show/663726323', 'https://krisha.kz/a/show/662391421', 'https://krisha.kz/a/show/664547499', 'https://krisha.kz/a/show/664032740', 'https://krisha.kz/a/show/662773683', 'https://krisha.kz/a/show/664370557', 'https://krisha.kz/a/show/54504490', 'https://krisha.kz/a/show/664546974', 'https://krisha.kz/a/show/664546209', 'https://krisha.kz/a/show/663471899', 'https://krisha.kz/a/show/662052778', 'https://krisha.kz/a/show/662944403', 'https://krisha.kz/a/show/663500367', 'https://krisha.kz/a/show/663500650', 'https://krisha.kz/a/show/664539047', 'https://krisha.kz/a/show/664538996', 'https://krisha.kz/a/show/664538941', 'https://krisha.kz/a/show/664538870', 'https://krisha.kz/a/show/54390017', 'https://krisha.kz/a/show/661912076', 'https://krisha.kz/a/show/664016610', 'https://krisha.kz/a/show/54195983', 'https://krisha.kz/a/show/663956721', 'https://krisha.kz/a/show/661237830', 'https://krisha.kz/a/show/663663569', 'https://krisha.kz/a/show/664514631', 'https://krisha.kz/a/show/54202239', 'https://krisha.kz/a/show/664365045', 'https://krisha.kz/a/show/664211502', 'https://krisha.kz/a/show/661167116', 'https://krisha.kz/a/show/662566225', 'https://krisha.kz/a/show/663065376', 'https://krisha.kz/a/show/664047959', 'https://krisha.kz/a/show/660027743', 'https://krisha.kz/a/show/664452405', 'https://krisha.kz/a/show/664529751', 'https://krisha.kz/a/show/663741312', 'https://krisha.kz/a/show/663165174', 'https://krisha.kz/a/show/664387826', 'https://krisha.kz/a/show/664163294', 'https://krisha.kz/a/show/29225873', 'https://krisha.kz/a/show/664387567', 'https://krisha.kz/a/show/664408783', 'https://krisha.kz/a/show/51297699', 'https://krisha.kz/a/show/662944876', 'https://krisha.kz/a/show/664535772', 'https://krisha.kz/a/show/53371548', 'https://krisha.kz/a/show/664387347', 'https://krisha.kz/a/show/56726473', 'https://krisha.kz/a/show/663105740', 'https://krisha.kz/a/show/664386600', 'https://krisha.kz/a/show/664057891', 'https://krisha.kz/a/show/661725776', 'https://krisha.kz/a/show/664386439', 'https://krisha.kz/a/show/57264652', 'https://krisha.kz/a/show/664534851', 'https://krisha.kz/a/show/58127787', 'https://krisha.kz/a/show/661204632', 'https://krisha.kz/a/show/56287904', 'https://krisha.kz/a/show/664247109', 'https://krisha.kz/a/show/664412975', 'https://krisha.kz/a/show/664162326', 'https://krisha.kz/a/show/662930429', 'https://krisha.kz/a/show/664534500', 'https://krisha.kz/a/show/663028214', 'https://krisha.kz/a/show/664246816', 'https://krisha.kz/a/show/664246813', 'https://krisha.kz/a/show/663662379', 'https://krisha.kz/a/show/664246412', 'https://krisha.kz/a/show/662841040', 'https://krisha.kz/a/show/660774959', 'https://krisha.kz/a/show/662928794', 'https://krisha.kz/a/show/662732290', 'https://krisha.kz/a/show/52053702', 'https://krisha.kz/a/show/662490975', 'https://krisha.kz/a/show/661210572', 'https://krisha.kz/a/show/664245911', 'https://krisha.kz/a/show/664385478', 'https://krisha.kz/a/show/661461933', 'https://krisha.kz/a/show/663936912', 'https://krisha.kz/a/show/664533503', 'https://krisha.kz/a/show/664385018', 'https://krisha.kz/a/show/663084677', 'https://krisha.kz/a/show/663937188', 'https://krisha.kz/a/show/664245793', 'https://krisha.kz/a/show/663661964', 'https://krisha.kz/a/show/663906870', 'https://krisha.kz/a/show/660390761', 'https://krisha.kz/a/show/663661491', 'https://krisha.kz/a/show/51266279', 'https://krisha.kz/a/show/664533343', 'https://krisha.kz/a/show/664521613', 'https://krisha.kz/a/show/660996171', 'https://krisha.kz/a/show/663804644', 'https://krisha.kz/a/show/52144078', 'https://krisha.kz/a/show/58591179', 'https://krisha.kz/a/show/664245359', 'https://krisha.kz/a/show/664384181', 'https://krisha.kz/a/show/660670056', 'https://krisha.kz/a/show/56778782', 'https://krisha.kz/a/show/664383972', 'https://krisha.kz/a/show/664383293', 'https://krisha.kz/a/show/662975879', 'https://krisha.kz/a/show/662259189', 'https://krisha.kz/a/show/664384030', 'https://krisha.kz/a/show/57860910', 'https://krisha.kz/a/show/661908558', 'https://krisha.kz/a/show/664278755', 'https://krisha.kz/a/show/664161058', 'https://krisha.kz/a/show/663936041', 'https://krisha.kz/a/show/661557016', 'https://krisha.kz/a/show/663326418', 'https://krisha.kz/a/show/664531784', 'https://krisha.kz/a/show/664381317', 'https://krisha.kz/a/show/664243750', 'https://krisha.kz/a/show/56132529', 'https://krisha.kz/a/show/662860179', 'https://krisha.kz/a/show/661543892', 'https://krisha.kz/a/show/48718018', 'https://krisha.kz/a/show/664349860', 'https://krisha.kz/a/show/664150868', 'https://krisha.kz/a/show/664530987', 'https://krisha.kz/a/show/663935484', 'https://krisha.kz/a/show/663056940', 'https://krisha.kz/a/show/664531309', 'https://krisha.kz/a/show/661200369', 'https://krisha.kz/a/show/49688666', 'https://krisha.kz/a/show/664531030', 'https://krisha.kz/a/show/663230722', 'https://krisha.kz/a/show/663305232', 'https://krisha.kz/a/show/663808517', 'https://krisha.kz/a/show/664530622', 'https://krisha.kz/a/show/57268406', 'https://krisha.kz/a/show/16125604', 'https://krisha.kz/a/show/663307452', 'https://krisha.kz/a/show/662871527', 'https://krisha.kz/a/show/661839792', 'https://krisha.kz/a/show/29917687', 'https://krisha.kz/a/show/56864011', 'https://krisha.kz/a/show/662564736', 'https://krisha.kz/a/show/662145369', 'https://krisha.kz/a/show/30774036', 'https://krisha.kz/a/show/660845163', 'https://krisha.kz/a/show/660337636', 'https://krisha.kz/a/show/664241362', 'https://krisha.kz/a/show/662568679', 'https://krisha.kz/a/show/49194485', 'https://krisha.kz/a/show/661551447', 'https://krisha.kz/a/show/55330437', 'https://krisha.kz/a/show/664528406', 'https://krisha.kz/a/show/57368744', 'https://krisha.kz/a/show/664528412', 'https://krisha.kz/a/show/57358467', 'https://krisha.kz/a/show/663471963', 'https://krisha.kz/a/show/664528340', 'https://krisha.kz/a/show/50362925', 'https://krisha.kz/a/show/664527724', 'https://krisha.kz/a/show/54797533', 'https://krisha.kz/a/show/664416383', 'https://krisha.kz/a/show/660360112', 'https://krisha.kz/a/show/664239947', 'https://krisha.kz/a/show/660934422', 'https://krisha.kz/a/show/661813039', 'https://krisha.kz/a/show/662580454', 'https://krisha.kz/a/show/19481625', 'https://krisha.kz/a/show/660787255', 'https://krisha.kz/a/show/663470210', 'https://krisha.kz/a/show/660645659', 'https://krisha.kz/a/show/663417702', 'https://krisha.kz/a/show/663392732', 'https://krisha.kz/a/show/663656076', 'https://krisha.kz/a/show/57245126', 'https://krisha.kz/a/show/664050724', 'https://krisha.kz/a/show/662483532', 'https://krisha.kz/a/show/664376911', 'https://krisha.kz/a/show/664237123', 'https://krisha.kz/a/show/664526985', 'https://krisha.kz/a/show/663488710', 'https://krisha.kz/a/show/53016065', 'https://krisha.kz/a/show/52156444', 'https://krisha.kz/a/show/663244111', 'https://krisha.kz/a/show/662136063', 'https://krisha.kz/a/show/664526265', 'https://krisha.kz/a/show/48080688', 'https://krisha.kz/a/show/660059332', 'https://krisha.kz/a/show/28429874', 'https://krisha.kz/a/show/664376752', 'https://krisha.kz/a/show/660160663', 'https://krisha.kz/a/show/664376641', 'https://krisha.kz/a/show/663644401', 'https://krisha.kz/a/show/55722262', 'https://krisha.kz/a/show/664277277', 'https://krisha.kz/a/show/662420829', 'https://krisha.kz/a/show/50843037', 'https://krisha.kz/a/show/57852814', 'https://krisha.kz/a/show/663267149', 'https://krisha.kz/a/show/663066862', 'https://krisha.kz/a/show/57935750', 'https://krisha.kz/a/show/664524571', 'https://krisha.kz/a/show/663696264', 'https://krisha.kz/a/show/27127319', 'https://krisha.kz/a/show/662734672', 'https://krisha.kz/a/show/56073149', 'https://krisha.kz/a/show/662293888', 'https://krisha.kz/a/show/663604399', 'https://krisha.kz/a/show/663929335', 'https://krisha.kz/a/show/663457272', 'https://krisha.kz/a/show/664375464', 'https://krisha.kz/a/show/11013004', 'https://krisha.kz/a/show/48423256', 'https://krisha.kz/a/show/662985135', 'https://krisha.kz/a/show/52823743', 'https://krisha.kz/a/show/663179824', 'https://krisha.kz/a/show/663289445', 'https://krisha.kz/a/show/662721965', 'https://krisha.kz/a/show/660157986', 'https://krisha.kz/a/show/660235044', 'https://krisha.kz/a/show/661822321', 'https://krisha.kz/a/show/663200694', 'https://krisha.kz/a/show/51390790', 'https://krisha.kz/a/show/661223132', 'https://krisha.kz/a/show/663795207', 'https://krisha.kz/a/show/58214377', 'https://krisha.kz/a/show/661657215', 'https://krisha.kz/a/show/58061791', 'https://krisha.kz/a/show/49199843', 'https://krisha.kz/a/show/664155765', 'https://krisha.kz/a/show/664522859', 'https://krisha.kz/a/show/660564180', 'https://krisha.kz/a/show/660075314', 'https://krisha.kz/a/show/660451161', 'https://krisha.kz/a/show/58220591', 'https://krisha.kz/a/show/664522639', 'https://krisha.kz/a/show/57899495', 'https://krisha.kz/a/show/664053531', 'https://krisha.kz/a/show/52185309', 'https://krisha.kz/a/show/52095585', 'https://krisha.kz/a/show/660923455', 'https://krisha.kz/a/show/661318931', 'https://krisha.kz/a/show/661361636', 'https://krisha.kz/a/show/664522240', 'https://krisha.kz/a/show/664522179', 'https://krisha.kz/a/show/662993410', 'https://krisha.kz/a/show/661820289', 'https://krisha.kz/a/show/664522055', 'https://krisha.kz/a/show/662835993', 'https://krisha.kz/a/show/664521913', 'https://krisha.kz/a/show/52119278', 'https://krisha.kz/a/show/662640181', 'https://krisha.kz/a/show/662196152', 'https://krisha.kz/a/show/50810594', 'https://krisha.kz/a/show/51906243', 'https://krisha.kz/a/show/664520902', 'https://krisha.kz/a/show/664521443', 'https://krisha.kz/a/show/664500674', 'https://krisha.kz/a/show/664521262', 'https://krisha.kz/a/show/662916194', 'https://krisha.kz/a/show/663184069', 'https://krisha.kz/a/show/663023503', 'https://krisha.kz/a/show/664372602', 'https://krisha.kz/a/show/51613943', 'https://krisha.kz/a/show/52409385', 'https://krisha.kz/a/show/55905518', 'https://krisha.kz/a/show/663535980', 'https://krisha.kz/a/show/664521098', 'https://krisha.kz/a/show/662226213', 'https://krisha.kz/a/show/661675063', 'https://krisha.kz/a/show/663990201', 'https://krisha.kz/a/show/56858194', 'https://krisha.kz/a/show/663172372', 'https://krisha.kz/a/show/664520810', 'https://krisha.kz/a/show/28344263', 'https://krisha.kz/a/show/664520425', 'https://krisha.kz/a/show/662845138', 'https://krisha.kz/a/show/56479281', 'https://krisha.kz/a/show/52649369', 'https://krisha.kz/a/show/664371346', 'https://krisha.kz/a/show/49632572', 'https://krisha.kz/a/show/664116363', 'https://krisha.kz/a/show/663448320', 'https://krisha.kz/a/show/664520108', 'https://krisha.kz/a/show/660169215', 'https://krisha.kz/a/show/663038719', 'https://krisha.kz/a/show/664519918', 'https://krisha.kz/a/show/663016836', 'https://krisha.kz/a/show/660423855', 'https://krisha.kz/a/show/662203917', 'https://krisha.kz/a/show/661025795', 'https://krisha.kz/a/show/663925529', 'https://krisha.kz/a/show/58464578', 'https://krisha.kz/a/show/664519623', 'https://krisha.kz/a/show/663956266', 'https://krisha.kz/a/show/660794199', 'https://krisha.kz/a/show/661003673', 'https://krisha.kz/a/show/53676501', 'https://krisha.kz/a/show/660359538', 'https://krisha.kz/a/show/57215080', 'https://krisha.kz/a/show/664095620', 'https://krisha.kz/a/show/661432449', 'https://krisha.kz/a/show/664518994', 'https://krisha.kz/a/show/662720161', 'https://krisha.kz/a/show/662881523', 'https://krisha.kz/a/show/663721603', 'https://krisha.kz/a/show/661183596', 'https://krisha.kz/a/show/663610906', 'https://krisha.kz/a/show/664239482', 'https://krisha.kz/a/show/663317977', 'https://krisha.kz/a/show/664370191', 'https://krisha.kz/a/show/662223509', 'https://krisha.kz/a/show/663933011', 'https://krisha.kz/a/show/664518455', 'https://krisha.kz/a/show/664518420', 'https://krisha.kz/a/show/661836126', 'https://krisha.kz/a/show/58297762', 'https://krisha.kz/a/show/664518372', 'https://krisha.kz/a/show/664518175', 'https://krisha.kz/a/show/660370086', 'https://krisha.kz/a/show/664043255', 'https://krisha.kz/a/show/660775014', 'https://krisha.kz/a/show/662431169', 'https://krisha.kz/a/show/664517328', 'https://krisha.kz/a/show/663011596', 'https://krisha.kz/a/show/30797247', 'https://krisha.kz/a/show/664517644', 'https://krisha.kz/a/show/661833608', 'https://krisha.kz/a/show/663747671', 'https://krisha.kz/a/show/661141905', 'https://krisha.kz/a/show/28228017', 'https://krisha.kz/a/show/664388500', 'https://krisha.kz/a/show/663519164', 'https://krisha.kz/a/show/664516845', 'https://krisha.kz/a/show/664516821', 'https://krisha.kz/a/show/663615168', 'https://krisha.kz/a/show/661286400', 'https://krisha.kz/a/show/661315019', 'https://krisha.kz/a/show/660023077', 'https://krisha.kz/a/show/664516180', 'https://krisha.kz/a/show/662323037', 'https://krisha.kz/a/show/663747129', 'https://krisha.kz/a/show/48233035', 'https://krisha.kz/a/show/662357827', 'https://krisha.kz/a/show/663521788', 'https://krisha.kz/a/show/664170401', 'https://krisha.kz/a/show/664218032', 'https://krisha.kz/a/show/664515681', 'https://krisha.kz/a/show/662389790', 'https://krisha.kz/a/show/663577810', 'https://krisha.kz/a/show/662103995', 'https://krisha.kz/a/show/663878609', 'https://krisha.kz/a/show/661948476', 'https://krisha.kz/a/show/662038132', 'https://krisha.kz/a/show/663000377', 'https://krisha.kz/a/show/664248272', 'https://krisha.kz/a/show/662979297', 'https://krisha.kz/a/show/664460120', 'https://krisha.kz/a/show/662516445', 'https://krisha.kz/a/show/662737205', 'https://krisha.kz/a/show/662587752', 'https://krisha.kz/a/show/58480314', 'https://krisha.kz/a/show/662423472', 'https://krisha.kz/a/show/660791368', 'https://krisha.kz/a/show/664059813', 'https://krisha.kz/a/show/660619153', 'https://krisha.kz/a/show/664366197', 'https://krisha.kz/a/show/664349400', 'https://krisha.kz/a/show/664226532', 'https://krisha.kz/a/show/664514065', 'https://krisha.kz/a/show/58224571', 'https://krisha.kz/a/show/57991006', 'https://krisha.kz/a/show/662618160', 'https://krisha.kz/a/show/660640132', 'https://krisha.kz/a/show/663607584', 'https://krisha.kz/a/show/662912176', 'https://krisha.kz/a/show/660341690', 'https://krisha.kz/a/show/49688751', 'https://krisha.kz/a/show/663638685', 'https://krisha.kz/a/show/664513886', 'https://krisha.kz/a/show/663507952', 'https://krisha.kz/a/show/664040334', 'https://krisha.kz/a/show/49570888', 'https://krisha.kz/a/show/664365648', 'https://krisha.kz/a/show/664365538', 'https://krisha.kz/a/show/662609075', 'https://krisha.kz/a/show/662136558', 'https://krisha.kz/a/show/664225903', 'https://krisha.kz/a/show/51898504', 'https://krisha.kz/a/show/54452526', 'https://krisha.kz/a/show/664149373', 'https://krisha.kz/a/show/56265983', 'https://krisha.kz/a/show/661205014', 'https://krisha.kz/a/show/662606109', 'https://krisha.kz/a/show/26114149', 'https://krisha.kz/a/show/661027614', 'https://krisha.kz/a/show/663448468', 'https://krisha.kz/a/show/663860483', 'https://krisha.kz/a/show/663783538', 'https://krisha.kz/a/show/663285593', 'https://krisha.kz/a/show/662250232', 'https://krisha.kz/a/show/660275701', 'https://krisha.kz/a/show/57864903', 'https://krisha.kz/a/show/661374343', 'https://krisha.kz/a/show/664223681', 'https://krisha.kz/a/show/664217760', 'https://krisha.kz/a/show/663983647', 'https://krisha.kz/a/show/662855494', 'https://krisha.kz/a/show/57007401', 'https://krisha.kz/a/show/660240705', 'https://krisha.kz/a/show/660345314', 'https://krisha.kz/a/show/664532065', 'https://krisha.kz/a/show/664535852', 'https://krisha.kz/a/show/663323159', 'https://krisha.kz/a/show/664535231', 'https://krisha.kz/a/show/664524295', 'https://krisha.kz/a/show/664532174', 'https://krisha.kz/a/show/664530338', 'https://krisha.kz/a/show/664527620', 'https://krisha.kz/a/show/664526708', 'https://krisha.kz/a/show/664526194', 'https://krisha.kz/a/show/664525598', 'https://krisha.kz/a/show/664524821', 'https://krisha.kz/a/show/662612855', 'https://krisha.kz/a/show/664343471', 'https://krisha.kz/a/show/663664924', 'https://krisha.kz/a/show/663801577', 'https://krisha.kz/a/show/664511273', 'https://krisha.kz/a/show/664242134', 'https://krisha.kz/a/show/661229058', 'https://krisha.kz/a/show/661006681', 'https://krisha.kz/a/show/662791141', 'https://krisha.kz/a/show/664382074', 'https://krisha.kz/a/show/664511194', 'https://krisha.kz/a/show/661390649', 'https://krisha.kz/a/show/58253882', 'https://krisha.kz/a/show/664509109', 'https://krisha.kz/a/show/664300258', 'https://krisha.kz/a/show/662735267', 'https://krisha.kz/a/show/664512987', 'https://krisha.kz/a/show/58453420', 'https://krisha.kz/a/show/660001001', 'https://krisha.kz/a/show/664364582', 'https://krisha.kz/a/show/664217730', 'https://krisha.kz/a/show/662250780', 'https://krisha.kz/a/show/660575818', 'https://krisha.kz/a/show/664512354', 'https://krisha.kz/a/show/664512114', 'https://krisha.kz/a/show/664512186', 'https://krisha.kz/a/show/663506089', 'https://krisha.kz/a/show/664057314', 'https://krisha.kz/a/show/58452624', 'https://krisha.kz/a/show/660198639', 'https://krisha.kz/a/show/664512060', 'https://krisha.kz/a/show/664148132', 'https://krisha.kz/a/show/664385492', 'https://krisha.kz/a/show/664363640', 'https://krisha.kz/a/show/663097864', 'https://krisha.kz/a/show/664161926', 'https://krisha.kz/a/show/663643417', 'https://krisha.kz/a/show/664363411', 'https://krisha.kz/a/show/661016165', 'https://krisha.kz/a/show/661749929', 'https://krisha.kz/a/show/664511187', 'https://krisha.kz/a/show/664363259', 'https://krisha.kz/a/show/663575485', 'https://krisha.kz/a/show/663939298', 'https://krisha.kz/a/show/660956628', 'https://krisha.kz/a/show/660130539', 'https://krisha.kz/a/show/663783844', 'https://krisha.kz/a/show/58239347', 'https://krisha.kz/a/show/56872707', 'https://krisha.kz/a/show/660391812', 'https://krisha.kz/a/show/662730644', 'https://krisha.kz/a/show/50798429', 'https://krisha.kz/a/show/51470832', 'https://krisha.kz/a/show/52324625', 'https://krisha.kz/a/show/664223384', 'https://krisha.kz/a/show/663361003', 'https://krisha.kz/a/show/661597659', 'https://krisha.kz/a/show/663880958', 'https://krisha.kz/a/show/663450188', 'https://krisha.kz/a/show/664362404', 'https://krisha.kz/a/show/662529247', 'https://krisha.kz/a/show/663986452', 'https://krisha.kz/a/show/664147021', 'https://krisha.kz/a/show/664245076', 'https://krisha.kz/a/show/663817760', 'https://krisha.kz/a/show/660158526', 'https://krisha.kz/a/show/662047550', 'https://krisha.kz/a/show/664248213', 'https://krisha.kz/a/show/663525646', 'https://krisha.kz/a/show/664330895', 'https://krisha.kz/a/show/664510030', 'https://krisha.kz/a/show/20233197', 'https://krisha.kz/a/show/664509781', 'https://krisha.kz/a/show/661986334', 'https://krisha.kz/a/show/664381569', 'https://krisha.kz/a/show/664221512', 'https://krisha.kz/a/show/664360863', 'https://krisha.kz/a/show/664509177', 'https://krisha.kz/a/show/57374609', 'https://krisha.kz/a/show/663523102', 'https://krisha.kz/a/show/663907022', 'https://krisha.kz/a/show/661986165', 'https://krisha.kz/a/show/661329306', 'https://krisha.kz/a/show/664507854', 'https://krisha.kz/a/show/664508205', 'https://krisha.kz/a/show/661825646', 'https://krisha.kz/a/show/52574246', 'https://krisha.kz/a/show/660597175', 'https://krisha.kz/a/show/664145969', 'https://krisha.kz/a/show/664507519', 'https://krisha.kz/a/show/54065620', 'https://krisha.kz/a/show/664359575', 'https://krisha.kz/a/show/660531460', 'https://krisha.kz/a/show/661169910', 'https://krisha.kz/a/show/664219307', 'https://krisha.kz/a/show/664219650', 'https://krisha.kz/a/show/664219710', 'https://krisha.kz/a/show/660503806', 'https://krisha.kz/a/show/28992325', 'https://krisha.kz/a/show/663818262', 'https://krisha.kz/a/show/54137183', 'https://krisha.kz/a/show/664219604', 'https://krisha.kz/a/show/660114431', 'https://krisha.kz/a/show/663779536', 'https://krisha.kz/a/show/663639236', 'https://krisha.kz/a/show/664219453', 'https://krisha.kz/a/show/660293843', 'https://krisha.kz/a/show/58253482', 'https://krisha.kz/a/show/660277807', 'https://krisha.kz/a/show/662817267', 'https://krisha.kz/a/show/58547819', 'https://krisha.kz/a/show/57383437', 'https://krisha.kz/a/show/664358217', 'https://krisha.kz/a/show/662622619', 'https://krisha.kz/a/show/664219129', 'https://krisha.kz/a/show/664361972', 'https://krisha.kz/a/show/57138940', 'https://krisha.kz/a/show/664503650', 'https://krisha.kz/a/show/661749192', 'https://krisha.kz/a/show/663445440', 'https://krisha.kz/a/show/664363016', 'https://krisha.kz/a/show/663055767', 'https://krisha.kz/a/show/662400473', 'https://krisha.kz/a/show/664144174', 'https://krisha.kz/a/show/660973222', 'https://krisha.kz/a/show/663429218', 'https://krisha.kz/a/show/664218366', 'https://krisha.kz/a/show/663907859', 'https://krisha.kz/a/show/663650984', 'https://krisha.kz/a/show/664504910', 'https://krisha.kz/a/show/52114267', 'https://krisha.kz/a/show/48795194', 'https://krisha.kz/a/show/57618808', 'https://krisha.kz/a/show/55026785', 'https://krisha.kz/a/show/664504610', 'https://krisha.kz/a/show/57838421', 'https://krisha.kz/a/show/664504470', 'https://krisha.kz/a/show/663991313', 'https://krisha.kz/a/show/663947108', 'https://krisha.kz/a/show/50848705', 'https://krisha.kz/a/show/661381809', 'https://krisha.kz/a/show/664231310', 'https://krisha.kz/a/show/663284927', 'https://krisha.kz/a/show/662417802', 'https://krisha.kz/a/show/663569098', 'https://krisha.kz/a/show/663706468', 'https://krisha.kz/a/show/663416389', 'https://krisha.kz/a/show/664356280', 'https://krisha.kz/a/show/660488323', 'https://krisha.kz/a/show/660763644', 'https://krisha.kz/a/show/664503088', 'https://krisha.kz/a/show/664217036', 'https://krisha.kz/a/show/664030997', 'https://krisha.kz/a/show/664503010', 'https://krisha.kz/a/show/664143277', 'https://krisha.kz/a/show/664354696', 'https://krisha.kz/a/show/664216722', 'https://krisha.kz/a/show/663776402', 'https://krisha.kz/a/show/662011531', 'https://krisha.kz/a/show/662429499', 'https://krisha.kz/a/show/664063004', 'https://krisha.kz/a/show/7257787', 'https://krisha.kz/a/show/664354241', 'https://krisha.kz/a/show/663047359', 'https://krisha.kz/a/show/662216646', 'https://krisha.kz/a/show/660053407', 'https://krisha.kz/a/show/662884290', 'https://krisha.kz/a/show/664353978', 'https://krisha.kz/a/show/664502008', 'https://krisha.kz/a/show/663069999', 'https://krisha.kz/a/show/664022710', 'https://krisha.kz/a/show/54194293', 'https://krisha.kz/a/show/660698700', 'https://krisha.kz/a/show/663665119', 'https://krisha.kz/a/show/663909581', 'https://krisha.kz/a/show/663750412', 'https://krisha.kz/a/show/58403333', 'https://krisha.kz/a/show/664500847', 'https://krisha.kz/a/show/664500015', 'https://krisha.kz/a/show/664499299', 'https://krisha.kz/a/show/660672317', 'https://krisha.kz/a/show/661675251', 'https://krisha.kz/a/show/58618628', 'https://krisha.kz/a/show/664214496', 'https://krisha.kz/a/show/663199096', 'https://krisha.kz/a/show/664499700', 'https://krisha.kz/a/show/662685228', 'https://krisha.kz/a/show/664499092', 'https://krisha.kz/a/show/664249046', 'https://krisha.kz/a/show/56882585', 'https://krisha.kz/a/show/662878089', 'https://krisha.kz/a/show/663645235', 'https://krisha.kz/a/show/663165692', 'https://krisha.kz/a/show/57323552', 'https://krisha.kz/a/show/664498616', 'https://krisha.kz/a/show/51108671', 'https://krisha.kz/a/show/664497699', 'https://krisha.kz/a/show/664350612', 'https://krisha.kz/a/show/664497300', 'https://krisha.kz/a/show/663967422', 'https://krisha.kz/a/show/51655266', 'https://krisha.kz/a/show/55779318', 'https://krisha.kz/a/show/50856205', 'https://krisha.kz/a/show/664497794', 'https://krisha.kz/a/show/664257372', 'https://krisha.kz/a/show/662295332', 'https://krisha.kz/a/show/664028212', 'https://krisha.kz/a/show/662633235', 'https://krisha.kz/a/show/664212708', 'https://krisha.kz/a/show/664497433', 'https://krisha.kz/a/show/661244816', 'https://krisha.kz/a/show/664027931', 'https://krisha.kz/a/show/664212577', 'https://krisha.kz/a/show/661140057', 'https://krisha.kz/a/show/663030929', 'https://krisha.kz/a/show/55013164', 'https://krisha.kz/a/show/663079603', 'https://krisha.kz/a/show/664498657', 'https://krisha.kz/a/show/662535930', 'https://krisha.kz/a/show/662851747', 'https://krisha.kz/a/show/664211899', 'https://krisha.kz/a/show/52076178', 'https://krisha.kz/a/show/662722434', 'https://krisha.kz/a/show/49756750', 'https://krisha.kz/a/show/664211744', 'https://krisha.kz/a/show/664092164', 'https://krisha.kz/a/show/664496614', 'https://krisha.kz/a/show/664349241', 'https://krisha.kz/a/show/47472809', 'https://krisha.kz/a/show/58241211', 'https://krisha.kz/a/show/664138260', 'https://krisha.kz/a/show/664348967', 'https://krisha.kz/a/show/57340367', 'https://krisha.kz/a/show/660241898', 'https://krisha.kz/a/show/663957465', 'https://krisha.kz/a/show/660940225', 'https://krisha.kz/a/show/662101669', 'https://krisha.kz/a/show/53647763', 'https://krisha.kz/a/show/664496254', 'https://krisha.kz/a/show/664020417', 'https://krisha.kz/a/show/664144148', 'https://krisha.kz/a/show/660848069', 'https://krisha.kz/a/show/663742302', 'https://krisha.kz/a/show/664210483', 'https://krisha.kz/a/show/663314466', 'https://krisha.kz/a/show/663172838', 'https://krisha.kz/a/show/660237343', 'https://krisha.kz/a/show/58226484', 'https://krisha.kz/a/show/662763985', 'https://krisha.kz/a/show/662681216', 'https://krisha.kz/a/show/663689713', 'https://krisha.kz/a/show/664210381', 'https://krisha.kz/a/show/664008248', 'https://krisha.kz/a/show/660638245', 'https://krisha.kz/a/show/58541119', 'https://krisha.kz/a/show/663684246', 'https://krisha.kz/a/show/664494677', 'https://krisha.kz/a/show/664346581', 'https://krisha.kz/a/show/29018137', 'https://krisha.kz/a/show/662340406', 'https://krisha.kz/a/show/664494355', 'https://krisha.kz/a/show/663868066', 'https://krisha.kz/a/show/662136054', 'https://krisha.kz/a/show/664493946', 'https://krisha.kz/a/show/664493915', 'https://krisha.kz/a/show/664494901', 'https://krisha.kz/a/show/49751948', 'https://krisha.kz/a/show/664493396', 'https://krisha.kz/a/show/56674087', 'https://krisha.kz/a/show/663902584', 'https://krisha.kz/a/show/660922330', 'https://krisha.kz/a/show/664493297', 'https://krisha.kz/a/show/664493221', 'https://krisha.kz/a/show/664493077', 'https://krisha.kz/a/show/660094040', 'https://krisha.kz/a/show/660697329', 'https://krisha.kz/a/show/663748385', 'https://krisha.kz/a/show/663692466', 'https://krisha.kz/a/show/663132837', 'https://krisha.kz/a/show/663868517', 'https://krisha.kz/a/show/663495245', 'https://krisha.kz/a/show/660209996', 'https://krisha.kz/a/show/660688005', 'https://krisha.kz/a/show/22967340', 'https://krisha.kz/a/show/58452941', 'https://krisha.kz/a/show/663489842', 'https://krisha.kz/a/show/663902683', 'https://krisha.kz/a/show/663903784', 'https://krisha.kz/a/show/662484357', 'https://krisha.kz/a/show/51501463', 'https://krisha.kz/a/show/662386220', 'https://krisha.kz/a/show/663766053', 'https://krisha.kz/a/show/663693707', 'https://krisha.kz/a/show/663992360', 'https://krisha.kz/a/show/663925643', 'https://krisha.kz/a/show/663743841', 'https://krisha.kz/a/show/663598947', 'https://krisha.kz/a/show/54925578', 'https://krisha.kz/a/show/663604878', 'https://krisha.kz/a/show/664280783', 'https://krisha.kz/a/show/661801480', 'https://krisha.kz/a/show/663144578', 'https://krisha.kz/a/show/50072942', 'https://krisha.kz/a/show/58308722', 'https://krisha.kz/a/show/57908130', 'https://krisha.kz/a/show/664491477', 'https://krisha.kz/a/show/661700014', 'https://krisha.kz/a/show/663485864', 'https://krisha.kz/a/show/664161364', 'https://krisha.kz/a/show/663654088', 'https://krisha.kz/a/show/662685855', 'https://krisha.kz/a/show/663499998', 'https://krisha.kz/a/show/52113337', 'https://krisha.kz/a/show/664143164', 'https://krisha.kz/a/show/661127641', 'https://krisha.kz/a/show/664490424', 'https://krisha.kz/a/show/661615212', 'https://krisha.kz/a/show/663718470', 'https://krisha.kz/a/show/660291056', 'https://krisha.kz/a/show/664489875', 'https://krisha.kz/a/show/664404289', 'https://krisha.kz/a/show/664256041', 'https://krisha.kz/a/show/662715461', 'https://krisha.kz/a/show/664084036', 'https://krisha.kz/a/show/58528726', 'https://krisha.kz/a/show/663215141', 'https://krisha.kz/a/show/661477886', 'https://krisha.kz/a/show/663030781', 'https://krisha.kz/a/show/56585025', 'https://krisha.kz/a/show/54520648', 'https://krisha.kz/a/show/662250648', 'https://krisha.kz/a/show/57344803', 'https://krisha.kz/a/show/662959252', 'https://krisha.kz/a/show/663494879', 'https://krisha.kz/a/show/663995584', 'https://krisha.kz/a/show/663981210', 'https://krisha.kz/a/show/663586200', 'https://krisha.kz/a/show/663592557', 'https://krisha.kz/a/show/57987863', 'https://krisha.kz/a/show/663629408', 'https://krisha.kz/a/show/662205745', 'https://krisha.kz/a/show/662823489', 'https://krisha.kz/a/show/52731264', 'https://krisha.kz/a/show/663631709', 'https://krisha.kz/a/show/664020609', 'https://krisha.kz/a/show/664432427', 'https://krisha.kz/a/show/664488456', 'https://krisha.kz/a/show/662931060', 'https://krisha.kz/a/show/664488122', 'https://krisha.kz/a/show/54306522', 'https://krisha.kz/a/show/662045708', 'https://krisha.kz/a/show/662772932', 'https://krisha.kz/a/show/662482923', 'https://krisha.kz/a/show/662786118', 'https://krisha.kz/a/show/663028281', 'https://krisha.kz/a/show/664487777', 'https://krisha.kz/a/show/24948003', 'https://krisha.kz/a/show/664487501', 'https://krisha.kz/a/show/664205488', 'https://krisha.kz/a/show/663663796', 'https://krisha.kz/a/show/664340728', 'https://krisha.kz/a/show/57640268', 'https://krisha.kz/a/show/664205399', 'https://krisha.kz/a/show/662585244', 'https://krisha.kz/a/show/663897587', 'https://krisha.kz/a/show/661553154', 'https://krisha.kz/a/show/663986697', 'https://krisha.kz/a/show/660792572', 'https://krisha.kz/a/show/49266602', 'https://krisha.kz/a/show/664274770', 'https://krisha.kz/a/show/663649377', 'https://krisha.kz/a/show/664340276', 'https://krisha.kz/a/show/57144565', 'https://krisha.kz/a/show/664178416', 'https://krisha.kz/a/show/26094281', 'https://krisha.kz/a/show/661330324', 'https://krisha.kz/a/show/663887523', 'https://krisha.kz/a/show/662828247', 'https://krisha.kz/a/show/664507661', 'https://krisha.kz/a/show/664506551', 'https://krisha.kz/a/show/664505878', 'https://krisha.kz/a/show/664503342', 'https://krisha.kz/a/show/662459910', 'https://krisha.kz/a/show/662866755', 'https://krisha.kz/a/show/662102032', 'https://krisha.kz/a/show/26020848', 'https://krisha.kz/a/show/664500743', 'https://krisha.kz/a/show/664496113', 'https://krisha.kz/a/show/663465615', 'https://krisha.kz/a/show/664496009', 'https://krisha.kz/a/show/664494911', 'https://krisha.kz/a/show/663498842', 'https://krisha.kz/a/show/664051981', 'https://krisha.kz/a/show/664491789', 'https://krisha.kz/a/show/664490519', 'https://krisha.kz/a/show/664126945', 'https://krisha.kz/a/show/664489792', 'https://krisha.kz/a/show/663776062', 'https://krisha.kz/a/show/661809123', 'https://krisha.kz/a/show/664059623', 'https://krisha.kz/a/show/57618680', 'https://krisha.kz/a/show/664485610', 'https://krisha.kz/a/show/48367771', 'https://krisha.kz/a/show/57142677', 'https://krisha.kz/a/show/663732918', 'https://krisha.kz/a/show/661964911', 'https://krisha.kz/a/show/663897197', 'https://krisha.kz/a/show/57249574', 'https://krisha.kz/a/show/662276924', 'https://krisha.kz/a/show/54725381', 'https://krisha.kz/a/show/661403927', 'https://krisha.kz/a/show/664486076', 'https://krisha.kz/a/show/664339336', 'https://krisha.kz/a/show/664339260', 'https://krisha.kz/a/show/664485285', 'https://krisha.kz/a/show/664485878', 'https://krisha.kz/a/show/663896087', 'https://krisha.kz/a/show/663481127', 'https://krisha.kz/a/show/661289871', 'https://krisha.kz/a/show/57465744', 'https://krisha.kz/a/show/57095432', 'https://krisha.kz/a/show/663242245', 'https://krisha.kz/a/show/664361473', 'https://krisha.kz/a/show/58344567', 'https://krisha.kz/a/show/663571294', 'https://krisha.kz/a/show/664017303', 'https://krisha.kz/a/show/663895365', 'https://krisha.kz/a/show/661490637', 'https://krisha.kz/a/show/56498203', 'https://krisha.kz/a/show/662789141', 'https://krisha.kz/a/show/30004352', 'https://krisha.kz/a/show/663760211', 'https://krisha.kz/a/show/660871691', 'https://krisha.kz/a/show/661726914', 'https://krisha.kz/a/show/663935919', 'https://krisha.kz/a/show/664336949', 'https://krisha.kz/a/show/664484352', 'https://krisha.kz/a/show/663618984', 'https://krisha.kz/a/show/664130147', 'https://krisha.kz/a/show/661173250', 'https://krisha.kz/a/show/664204158', 'https://krisha.kz/a/show/56585172', 'https://krisha.kz/a/show/661672891', 'https://krisha.kz/a/show/660600297', 'https://krisha.kz/a/show/660701802', 'https://krisha.kz/a/show/663187649', 'https://krisha.kz/a/show/664059104', 'https://krisha.kz/a/show/664336916', 'https://krisha.kz/a/show/52167938', 'https://krisha.kz/a/show/663317937', 'https://krisha.kz/a/show/49353252', 'https://krisha.kz/a/show/664483155', 'https://krisha.kz/a/show/663026894', 'https://krisha.kz/a/show/660787803', 'https://krisha.kz/a/show/661806031', 'https://krisha.kz/a/show/664201385', 'https://krisha.kz/a/show/664482573', 'https://krisha.kz/a/show/660383174', 'https://krisha.kz/a/show/664482390', 'https://krisha.kz/a/show/663893783', 'https://krisha.kz/a/show/55535943', 'https://krisha.kz/a/show/52167276', 'https://krisha.kz/a/show/56168368', 'https://krisha.kz/a/show/664335273', 'https://krisha.kz/a/show/663912617', 'https://krisha.kz/a/show/54979057', 'https://krisha.kz/a/show/660944268', 'https://krisha.kz/a/show/664334998', 'https://krisha.kz/a/show/58383407', 'https://krisha.kz/a/show/661142562', 'https://krisha.kz/a/show/48710900', 'https://krisha.kz/a/show/55864478', 'https://krisha.kz/a/show/664128451', 'https://krisha.kz/a/show/663172212', 'https://krisha.kz/a/show/663170639', 'https://krisha.kz/a/show/663477182', 'https://krisha.kz/a/show/664481125', 'https://krisha.kz/a/show/663169147', 'https://krisha.kz/a/show/664481009', 'https://krisha.kz/a/show/661700952', 'https://krisha.kz/a/show/664480993', 'https://krisha.kz/a/show/660644618', 'https://krisha.kz/a/show/58486979', 'https://krisha.kz/a/show/662986310', 'https://krisha.kz/a/show/51363423', 'https://krisha.kz/a/show/663018739', 'https://krisha.kz/a/show/54097557', 'https://krisha.kz/a/show/663512837', 'https://krisha.kz/a/show/660077037', 'https://krisha.kz/a/show/664199581', 'https://krisha.kz/a/show/57235194', 'https://krisha.kz/a/show/662225472', 'https://krisha.kz/a/show/664199456', 'https://krisha.kz/a/show/56789220', 'https://krisha.kz/a/show/660516612', 'https://krisha.kz/a/show/30848757', 'https://krisha.kz/a/show/662258922', 'https://krisha.kz/a/show/664127090', 'https://krisha.kz/a/show/663494155', 'https://krisha.kz/a/show/663849570', 'https://krisha.kz/a/show/662805013', 'https://krisha.kz/a/show/660774440', 'https://krisha.kz/a/show/46851735', 'https://krisha.kz/a/show/663405079', 'https://krisha.kz/a/show/661900408', 'https://krisha.kz/a/show/662533324', 'https://krisha.kz/a/show/660739773', 'https://krisha.kz/a/show/58588550', 'https://krisha.kz/a/show/661652986', 'https://krisha.kz/a/show/662940424', 'https://krisha.kz/a/show/661961289', 'https://krisha.kz/a/show/664478705', 'https://krisha.kz/a/show/660297703', 'https://krisha.kz/a/show/28045555', 'https://krisha.kz/a/show/662677623', 'https://krisha.kz/a/show/50124217', 'https://krisha.kz/a/show/50124726', 'https://krisha.kz/a/show/664478525', 'https://krisha.kz/a/show/26078841', 'https://krisha.kz/a/show/664478469', 'https://krisha.kz/a/show/660650479', 'https://krisha.kz/a/show/663755070', 'https://krisha.kz/a/show/663363283', 'https://krisha.kz/a/show/58539489', 'https://krisha.kz/a/show/56764035', 'https://krisha.kz/a/show/664331977', 'https://krisha.kz/a/show/53673791', 'https://krisha.kz/a/show/664198000', 'https://krisha.kz/a/show/663771017', 'https://krisha.kz/a/show/664477918', 'https://krisha.kz/a/show/660866162', 'https://krisha.kz/a/show/664331773', 'https://krisha.kz/a/show/55864460', 'https://krisha.kz/a/show/662967585', 'https://krisha.kz/a/show/661320095', 'https://krisha.kz/a/show/664009921', 'https://krisha.kz/a/show/664197685', 'https://krisha.kz/a/show/664197633', 'https://krisha.kz/a/show/57087147', 'https://krisha.kz/a/show/57603137', 'https://krisha.kz/a/show/58483273', 'https://krisha.kz/a/show/47099364', 'https://krisha.kz/a/show/28314001', 'https://krisha.kz/a/show/663194071', 'https://krisha.kz/a/show/664477480', 'https://krisha.kz/a/show/57303740', 'https://krisha.kz/a/show/54129212', 'https://krisha.kz/a/show/661317223', 'https://krisha.kz/a/show/660971385', 'https://krisha.kz/a/show/661368284', 'https://krisha.kz/a/show/15453988', 'https://krisha.kz/a/show/661134313', 'https://krisha.kz/a/show/57659103', 'https://krisha.kz/a/show/56534912', 'https://krisha.kz/a/show/55796424', 'https://krisha.kz/a/show/662980822', 'https://krisha.kz/a/show/662271825', 'https://krisha.kz/a/show/663758271', 'https://krisha.kz/a/show/664330457', 'https://krisha.kz/a/show/661390924', 'https://krisha.kz/a/show/663281458', 'https://krisha.kz/a/show/50214591', 'https://krisha.kz/a/show/664007765', 'https://krisha.kz/a/show/56039063', 'https://krisha.kz/a/show/664196330', 'https://krisha.kz/a/show/56331025', 'https://krisha.kz/a/show/660609790', 'https://krisha.kz/a/show/664472807', 'https://krisha.kz/a/show/662367977', 'https://krisha.kz/a/show/662374752', 'https://krisha.kz/a/show/56875931', 'https://krisha.kz/a/show/660080097', 'https://krisha.kz/a/show/661671562', 'https://krisha.kz/a/show/661914014', 'https://krisha.kz/a/show/664475783', 'https://krisha.kz/a/show/664329721', 'https://krisha.kz/a/show/663134364', 'https://krisha.kz/a/show/660439707', 'https://krisha.kz/a/show/662510634', 'https://krisha.kz/a/show/54527738', 'https://krisha.kz/a/show/663888449', 'https://krisha.kz/a/show/664475534', 'https://krisha.kz/a/show/58154108', 'https://krisha.kz/a/show/56023008', 'https://krisha.kz/a/show/664475404', 'https://krisha.kz/a/show/54621504', 'https://krisha.kz/a/show/664195618', 'https://krisha.kz/a/show/58473652', 'https://krisha.kz/a/show/664195551', 'https://krisha.kz/a/show/664475134', 'https://krisha.kz/a/show/51199814', 'https://krisha.kz/a/show/664329115', 'https://krisha.kz/a/show/58086036', 'https://krisha.kz/a/show/661133070', 'https://krisha.kz/a/show/662069953', 'https://krisha.kz/a/show/57660792', 'https://krisha.kz/a/show/48361708', 'https://krisha.kz/a/show/662117935', 'https://krisha.kz/a/show/664328766', 'https://krisha.kz/a/show/58096705', 'https://krisha.kz/a/show/55955276', 'https://krisha.kz/a/show/51539998', 'https://krisha.kz/a/show/664481861', 'https://krisha.kz/a/show/664481953', 'https://krisha.kz/a/show/664481819', 'https://krisha.kz/a/show/664480984', 'https://krisha.kz/a/show/664012542', 'https://krisha.kz/a/show/664475455', 'https://krisha.kz/a/show/664475289']\n"
     ]
    }
   ],
   "source": [
    "# getting links for each flat in Taraz\n",
    "flatlinks = []\n",
    "for x in range(1, 146):   \n",
    "    r = requests.get(f'https://krisha.kz/prodazha/kvartiry/taraz/?page={x}')\n",
    "    soup = BeautifulSoup(r.content, 'lxml')\n",
    "    rawlinks = soup.find_all(\"div\", { \"class\" : \"a-card__header-left\" })\n",
    "    links = []\n",
    "    for rawlink in rawlinks:\n",
    "        rawlink=str(rawlink)\n",
    "        rawlink = re.findall(r'a-card__title\" href=\"(.+?)\" target', rawlink)\n",
    "        rawlink=str(rawlink)\n",
    "        rawlink = rawlink.replace('[', '')\n",
    "        rawlink = rawlink.replace(']', '')\n",
    "        rawlink = rawlink.replace(\"'\", '')\n",
    "        flatlinks.append('https://krisha.kz' + rawlink)\n",
    "        flatlinks = [ x for x in flatlinks if len(x) > 18 ]\n",
    "print(flatlinks)"
   ]
  },
  {
   "cell_type": "code",
   "execution_count": 25,
   "metadata": {},
   "outputs": [
    {
     "name": "stdout",
     "output_type": "stream",
     "text": [
      "Total flat number: 2881\n"
     ]
    }
   ],
   "source": [
    "print('Total flat number: ' + str(len(flatlinks)))"
   ]
  },
  {
   "cell_type": "code",
   "execution_count": 26,
   "metadata": {},
   "outputs": [],
   "source": [
    "# implementing final scraping \n",
    "final = []\n",
    "for flat in flatlinks:\n",
    "    driver.get(flat)\n",
    "    try:\n",
    "        name = driver.find_element_by_xpath('/html/body/main/div[2]/div/div[1]/h1').text\n",
    "    except:\n",
    "        name = 'No Data'\n",
    "    \n",
    "    try:\n",
    "        location = driver.find_element_by_xpath('/html/body/main/div[2]/div/div[2]/div[1]/div[1]/div[2]/div[1]/div[3]/span').text\n",
    "    except:\n",
    "        location = 'No Data'\n",
    "        \n",
    "    try:\n",
    "        description = driver.find_element_by_xpath('/html/body/main/div[2]/div/div[2]/div[1]/div[1]/div[2]/div[2]/div[3]').text\n",
    "    except:\n",
    "        description = 'No Data'\n",
    "        \n",
    "    try: \n",
    "        author = driver.find_element_by_xpath('/html/body/main/div[2]/div/div[2]/div[1]/div[2]/div/div[2]/div[2]/a[2]').text\n",
    "    except:\n",
    "        author = 'No Data'\n",
    "    \n",
    "    try:\n",
    "        price = driver.find_element_by_xpath('/html/body/main/div[2]/div/div[2]/div[1]/div[1]/div[1]/div').text\n",
    "        price = str(price)\n",
    "        price = re.sub(\"[^0-9]\", \"\", price)\n",
    "    except:\n",
    "        price = 'No Data'\n",
    "    \n",
    "    try:\n",
    "        condition = driver.find_element_by_xpath('/html/body/main/div[2]/div/div[2]/div[1]/div[1]/div[2]/div[5]/div[3]').text\n",
    "    except:\n",
    "        condition = 'No Data'\n",
    "    \n",
    "    try:\n",
    "        bathroom = driver.find_element_by_xpath('/html/body/main/div[2]/div/div[2]/div[1]/div[1]/div[2]/div[6]/div[3]').text\n",
    "    except:\n",
    "        bathroom = 'No Data'\n",
    "        \n",
    "    try:\n",
    "        balcony = driver.find_element_by_xpath('/html/body/main/div[2]/div/div[2]/div[1]/div[1]/div[2]/div[7]/div[3]').text\n",
    "    except:\n",
    "        balcony = 'No Data'  \n",
    "    \n",
    "    try:\n",
    "        floor = driver.find_element_by_xpath('/html/body/main/div[2]/div/div[2]/div[1]/div[1]/div[2]/div[3]/div[3]').text\n",
    "    except:\n",
    "        floor = 'No Data'\n",
    "        \n",
    "    try:    \n",
    "    # scraping the mobile number\n",
    "        headers = {'User-Agent' : 'Mozilla/5.0 (Windows NT 10.0; Win64; x64) AppleWebKit/537.36 (KHTML, like Gecko) Chrome/87.0.4280.88 Safari/537.36'}\n",
    "        r = requests.get(flat, headers = headers)\n",
    "        soup = BeautifulSoup(r.content, 'lxml')\n",
    "        soup = str(soup)\n",
    "        phone = re.findall(r'phones(.+?)hasPhoto', soup)\n",
    "        phone = str(phone)\n",
    "        phone = re.sub(\"[^0-9]\", \"\", phone)\n",
    "        phone = phone[0:11]\n",
    "    except:\n",
    "        phone = 'No Data'\n",
    "    \n",
    "    try:\n",
    "        area = driver.find_element_by_xpath('/html/body/main/div[2]/div/div[2]/div[1]/div[1]/div[2]/div[4]/div[3]').text\n",
    "    except:\n",
    "        area = 'No Data'\n",
    "        \n",
    "    dictionary = {\n",
    "        'Name' : name,\n",
    "        'Location' : location,\n",
    "        'Floor' : floor,\n",
    "        'Building method' : description,\n",
    "        'Area' : area,\n",
    "        'Condition' : condition,\n",
    "        'Bathroom' : bathroom,\n",
    "        'Balcony' : balcony,\n",
    "        'Price' : price,\n",
    "        'Author' : author,\n",
    "        'Phone' : phone\n",
    "    }\n",
    "    final.append(dictionary)\n",
    "    "
   ]
  },
  {
   "cell_type": "code",
   "execution_count": 67,
   "metadata": {},
   "outputs": [],
   "source": [
    "# exporting our list to the dataframe\n",
    "df = pd.DataFrame(final)"
   ]
  },
  {
   "cell_type": "code",
   "execution_count": 70,
   "metadata": {},
   "outputs": [],
   "source": [
    "df.loc[df['Price'] == 'No Data', 'Price'] = 0"
   ]
  },
  {
   "cell_type": "code",
   "execution_count": 71,
   "metadata": {},
   "outputs": [],
   "source": [
    "# changing Price column's data type to the integer\n",
    "df['Price'] = df.Price.astype(int)"
   ]
  },
  {
   "cell_type": "code",
   "execution_count": 72,
   "metadata": {},
   "outputs": [
    {
     "data": {
      "text/html": [
       "<div>\n",
       "<style scoped>\n",
       "    .dataframe tbody tr th:only-of-type {\n",
       "        vertical-align: middle;\n",
       "    }\n",
       "\n",
       "    .dataframe tbody tr th {\n",
       "        vertical-align: top;\n",
       "    }\n",
       "\n",
       "    .dataframe thead th {\n",
       "        text-align: right;\n",
       "    }\n",
       "</style>\n",
       "<table border=\"1\" class=\"dataframe\">\n",
       "  <thead>\n",
       "    <tr style=\"text-align: right;\">\n",
       "      <th></th>\n",
       "      <th>Name</th>\n",
       "      <th>Location</th>\n",
       "      <th>Floor</th>\n",
       "      <th>Building method</th>\n",
       "      <th>Area</th>\n",
       "      <th>Condition</th>\n",
       "      <th>Bathroom</th>\n",
       "      <th>Balcony</th>\n",
       "      <th>Price</th>\n",
       "      <th>Author</th>\n",
       "      <th>Phone</th>\n",
       "    </tr>\n",
       "  </thead>\n",
       "  <tbody>\n",
       "    <tr>\n",
       "      <th>2860</th>\n",
       "      <td>No Data</td>\n",
       "      <td>No Data</td>\n",
       "      <td>No Data</td>\n",
       "      <td>No Data</td>\n",
       "      <td>No Data</td>\n",
       "      <td>No Data</td>\n",
       "      <td>No Data</td>\n",
       "      <td>No Data</td>\n",
       "      <td>0</td>\n",
       "      <td>No Data</td>\n",
       "      <td></td>\n",
       "    </tr>\n",
       "  </tbody>\n",
       "</table>\n",
       "</div>"
      ],
      "text/plain": [
       "         Name Location    Floor Building method     Area Condition Bathroom  \\\n",
       "2860  No Data  No Data  No Data         No Data  No Data   No Data  No Data   \n",
       "\n",
       "      Balcony  Price   Author Phone  \n",
       "2860  No Data      0  No Data        "
      ]
     },
     "execution_count": 72,
     "metadata": {},
     "output_type": "execute_result"
    }
   ],
   "source": [
    "count = df.loc[df['Price'] == 0]\n",
    "count"
   ]
  },
  {
   "cell_type": "code",
   "execution_count": 73,
   "metadata": {},
   "outputs": [],
   "source": [
    "# droping that row with null values\n",
    "df.drop(df[df['Price'] == 0].index, inplace = True)"
   ]
  },
  {
   "cell_type": "code",
   "execution_count": 74,
   "metadata": {},
   "outputs": [],
   "source": [
    "# exporting our dataframe to excel files\n",
    "df.to_excel(r'C:\\Users\\Ali Shalbayev\\Desktop\\Ali_Shalbayev_BDA1902_HW5\\Full_Taraz.xlsx', index = False)"
   ]
  },
  {
   "cell_type": "code",
   "execution_count": 75,
   "metadata": {},
   "outputs": [],
   "source": [
    "df.to_csv(r'C:\\Users\\Ali Shalbayev\\Desktop\\Ali_Shalbayev_BDA1902_HW5\\Full_Taraz.csv', index = False)"
   ]
  },
  {
   "cell_type": "code",
   "execution_count": 92,
   "metadata": {},
   "outputs": [
    {
     "data": {
      "text/html": [
       "<div>\n",
       "<style scoped>\n",
       "    .dataframe tbody tr th:only-of-type {\n",
       "        vertical-align: middle;\n",
       "    }\n",
       "\n",
       "    .dataframe tbody tr th {\n",
       "        vertical-align: top;\n",
       "    }\n",
       "\n",
       "    .dataframe thead th {\n",
       "        text-align: right;\n",
       "    }\n",
       "</style>\n",
       "<table border=\"1\" class=\"dataframe\">\n",
       "  <thead>\n",
       "    <tr style=\"text-align: right;\">\n",
       "      <th></th>\n",
       "      <th>Name</th>\n",
       "      <th>Location</th>\n",
       "      <th>Floor</th>\n",
       "      <th>Building method</th>\n",
       "      <th>Area</th>\n",
       "      <th>Condition</th>\n",
       "      <th>Bathroom</th>\n",
       "      <th>Balcony</th>\n",
       "      <th>Price</th>\n",
       "      <th>Author</th>\n",
       "      <th>Phone</th>\n",
       "    </tr>\n",
       "  </thead>\n",
       "  <tbody>\n",
       "    <tr>\n",
       "      <th>0</th>\n",
       "      <td>3-комнатная квартира, 62 м², 5/5 этаж, Каратау...</td>\n",
       "      <td>Тараз, Жамбылская обл.</td>\n",
       "      <td>5 из 5</td>\n",
       "      <td>панельный, 1968 г.п.</td>\n",
       "      <td>62 м², жилая — 62 м², кухня — 8 м²</td>\n",
       "      <td>среднее</td>\n",
       "      <td>раздельный</td>\n",
       "      <td>балкон</td>\n",
       "      <td>12500000</td>\n",
       "      <td>No Data</td>\n",
       "      <td>77056170524</td>\n",
       "    </tr>\n",
       "    <tr>\n",
       "      <th>1</th>\n",
       "      <td>2-комнатная квартира, 46 м², 1/5 этаж, Желтокс...</td>\n",
       "      <td>Тараз, Жамбылская обл.</td>\n",
       "      <td>1 из 5</td>\n",
       "      <td>кирпичный, 1969 г.п.</td>\n",
       "      <td>46 м², жилая — 35 м², кухня — 5 м²</td>\n",
       "      <td>евроремонт</td>\n",
       "      <td>совмещенный</td>\n",
       "      <td>металлическая</td>\n",
       "      <td>9000000</td>\n",
       "      <td>No Data</td>\n",
       "      <td>77766071954</td>\n",
       "    </tr>\n",
       "    <tr>\n",
       "      <th>2</th>\n",
       "      <td>2-комнатная квартира, 54 м², 2/5 этаж, Байзак ...</td>\n",
       "      <td>Тараз, Жамбылская обл.</td>\n",
       "      <td>2 из 5</td>\n",
       "      <td>кирпичный, 1981 г.п.</td>\n",
       "      <td>54 м²</td>\n",
       "      <td>евроремонт</td>\n",
       "      <td>раздельный</td>\n",
       "      <td>балкон</td>\n",
       "      <td>13500000</td>\n",
       "      <td>No Data</td>\n",
       "      <td>77003333944</td>\n",
       "    </tr>\n",
       "    <tr>\n",
       "      <th>3</th>\n",
       "      <td>4-комнатная квартира, 100 м², 1/4 этаж, Желток...</td>\n",
       "      <td>Тараз, Жамбылская обл.</td>\n",
       "      <td>1 из 4</td>\n",
       "      <td>кирпичный, 1968 г.п.</td>\n",
       "      <td>100 м², жилая — 82 м², кухня — 7 м²</td>\n",
       "      <td>евроремонт</td>\n",
       "      <td>раздельный</td>\n",
       "      <td>металлическая</td>\n",
       "      <td>20000000</td>\n",
       "      <td>No Data</td>\n",
       "      <td>77075847080</td>\n",
       "    </tr>\n",
       "    <tr>\n",
       "      <th>4</th>\n",
       "      <td>3-комнатная квартира, 57 м², 3/4 этаж, улица К...</td>\n",
       "      <td>Тараз, Жамбылская обл.</td>\n",
       "      <td>3 из 4</td>\n",
       "      <td>кирпичный, 1969 г.п.</td>\n",
       "      <td>57 м²</td>\n",
       "      <td>евроремонт</td>\n",
       "      <td>совмещенный</td>\n",
       "      <td>балкон</td>\n",
       "      <td>15900000</td>\n",
       "      <td>No Data</td>\n",
       "      <td>77474747994</td>\n",
       "    </tr>\n",
       "    <tr>\n",
       "      <th>...</th>\n",
       "      <td>...</td>\n",
       "      <td>...</td>\n",
       "      <td>...</td>\n",
       "      <td>...</td>\n",
       "      <td>...</td>\n",
       "      <td>...</td>\n",
       "      <td>...</td>\n",
       "      <td>...</td>\n",
       "      <td>...</td>\n",
       "      <td>...</td>\n",
       "      <td>...</td>\n",
       "    </tr>\n",
       "    <tr>\n",
       "      <th>2876</th>\n",
       "      <td>2-комнатная квартира, 47 м², 2/5 этаж, 10микро...</td>\n",
       "      <td>Тараз, Жамбылская обл.</td>\n",
       "      <td>2 из 5</td>\n",
       "      <td>панельный, 1986 г.п.</td>\n",
       "      <td>47 м²</td>\n",
       "      <td>хорошее</td>\n",
       "      <td>раздельный</td>\n",
       "      <td>лоджия</td>\n",
       "      <td>11700000</td>\n",
       "      <td>No Data</td>\n",
       "      <td>77478696889</td>\n",
       "    </tr>\n",
       "    <tr>\n",
       "      <th>2877</th>\n",
       "      <td>3-комнатная квартира, 65 м², 4/5 этаж, Абая 132</td>\n",
       "      <td>Тараз, Жамбылская обл.</td>\n",
       "      <td>4 из 5</td>\n",
       "      <td>панельный, 1978 г.п.</td>\n",
       "      <td>65 м², жилая — 62 м², кухня — 8 м²</td>\n",
       "      <td>хорошее</td>\n",
       "      <td>раздельный</td>\n",
       "      <td>балкон</td>\n",
       "      <td>15500000</td>\n",
       "      <td>No Data</td>\n",
       "      <td>77073472976</td>\n",
       "    </tr>\n",
       "    <tr>\n",
       "      <th>2878</th>\n",
       "      <td>3-комнатная квартира, 56 м², 4/5 этаж, Толе би 91</td>\n",
       "      <td>Тараз, Жамбылская обл.</td>\n",
       "      <td>4 из 5</td>\n",
       "      <td>кирпичный, 1985 г.п.</td>\n",
       "      <td>56 м², жилая — 36 м², кухня — 10 м²</td>\n",
       "      <td>среднее</td>\n",
       "      <td>нет</td>\n",
       "      <td>No Data</td>\n",
       "      <td>11171000</td>\n",
       "      <td>No Data</td>\n",
       "      <td>77768595979</td>\n",
       "    </tr>\n",
       "    <tr>\n",
       "      <th>2879</th>\n",
       "      <td>2-комнатная квартира, 44.3 м², 1/5 этаж, Мкр. 9</td>\n",
       "      <td>Тараз, Жамбылская обл.</td>\n",
       "      <td>1 из 5</td>\n",
       "      <td>панельный, 1979 г.п.</td>\n",
       "      <td>44.3 м²</td>\n",
       "      <td>хорошее</td>\n",
       "      <td>совмещенный</td>\n",
       "      <td>металлическая</td>\n",
       "      <td>8300000</td>\n",
       "      <td>No Data</td>\n",
       "      <td>77718359671</td>\n",
       "    </tr>\n",
       "    <tr>\n",
       "      <th>2880</th>\n",
       "      <td>2-комнатная квартира, 49.5 м², 2/5 этаж, Мкр. 11</td>\n",
       "      <td>Тараз, Жамбылская обл.</td>\n",
       "      <td>2 из 5</td>\n",
       "      <td>панельный, 1986 г.п.</td>\n",
       "      <td>49.5 м²</td>\n",
       "      <td>хорошее</td>\n",
       "      <td>раздельный</td>\n",
       "      <td>лоджия</td>\n",
       "      <td>9700000</td>\n",
       "      <td>No Data</td>\n",
       "      <td>77782521593</td>\n",
       "    </tr>\n",
       "  </tbody>\n",
       "</table>\n",
       "<p>2880 rows × 11 columns</p>\n",
       "</div>"
      ],
      "text/plain": [
       "                                                   Name  \\\n",
       "0     3-комнатная квартира, 62 м², 5/5 этаж, Каратау...   \n",
       "1     2-комнатная квартира, 46 м², 1/5 этаж, Желтокс...   \n",
       "2     2-комнатная квартира, 54 м², 2/5 этаж, Байзак ...   \n",
       "3     4-комнатная квартира, 100 м², 1/4 этаж, Желток...   \n",
       "4     3-комнатная квартира, 57 м², 3/4 этаж, улица К...   \n",
       "...                                                 ...   \n",
       "2876  2-комнатная квартира, 47 м², 2/5 этаж, 10микро...   \n",
       "2877    3-комнатная квартира, 65 м², 4/5 этаж, Абая 132   \n",
       "2878  3-комнатная квартира, 56 м², 4/5 этаж, Толе би 91   \n",
       "2879    2-комнатная квартира, 44.3 м², 1/5 этаж, Мкр. 9   \n",
       "2880   2-комнатная квартира, 49.5 м², 2/5 этаж, Мкр. 11   \n",
       "\n",
       "                    Location   Floor       Building method  \\\n",
       "0     Тараз, Жамбылская обл.  5 из 5  панельный, 1968 г.п.   \n",
       "1     Тараз, Жамбылская обл.  1 из 5  кирпичный, 1969 г.п.   \n",
       "2     Тараз, Жамбылская обл.  2 из 5  кирпичный, 1981 г.п.   \n",
       "3     Тараз, Жамбылская обл.  1 из 4  кирпичный, 1968 г.п.   \n",
       "4     Тараз, Жамбылская обл.  3 из 4  кирпичный, 1969 г.п.   \n",
       "...                      ...     ...                   ...   \n",
       "2876  Тараз, Жамбылская обл.  2 из 5  панельный, 1986 г.п.   \n",
       "2877  Тараз, Жамбылская обл.  4 из 5  панельный, 1978 г.п.   \n",
       "2878  Тараз, Жамбылская обл.  4 из 5  кирпичный, 1985 г.п.   \n",
       "2879  Тараз, Жамбылская обл.  1 из 5  панельный, 1979 г.п.   \n",
       "2880  Тараз, Жамбылская обл.  2 из 5  панельный, 1986 г.п.   \n",
       "\n",
       "                                     Area   Condition     Bathroom  \\\n",
       "0      62 м², жилая — 62 м², кухня — 8 м²     среднее   раздельный   \n",
       "1      46 м², жилая — 35 м², кухня — 5 м²  евроремонт  совмещенный   \n",
       "2                                   54 м²  евроремонт   раздельный   \n",
       "3     100 м², жилая — 82 м², кухня — 7 м²  евроремонт   раздельный   \n",
       "4                                   57 м²  евроремонт  совмещенный   \n",
       "...                                   ...         ...          ...   \n",
       "2876                                47 м²     хорошее   раздельный   \n",
       "2877   65 м², жилая — 62 м², кухня — 8 м²     хорошее   раздельный   \n",
       "2878  56 м², жилая — 36 м², кухня — 10 м²     среднее          нет   \n",
       "2879                              44.3 м²     хорошее  совмещенный   \n",
       "2880                              49.5 м²     хорошее   раздельный   \n",
       "\n",
       "            Balcony     Price   Author        Phone  \n",
       "0            балкон  12500000  No Data  77056170524  \n",
       "1     металлическая   9000000  No Data  77766071954  \n",
       "2            балкон  13500000  No Data  77003333944  \n",
       "3     металлическая  20000000  No Data  77075847080  \n",
       "4            балкон  15900000  No Data  77474747994  \n",
       "...             ...       ...      ...          ...  \n",
       "2876         лоджия  11700000  No Data  77478696889  \n",
       "2877         балкон  15500000  No Data  77073472976  \n",
       "2878        No Data  11171000  No Data  77768595979  \n",
       "2879  металлическая   8300000  No Data  77718359671  \n",
       "2880         лоджия   9700000  No Data  77782521593  \n",
       "\n",
       "[2880 rows x 11 columns]"
      ]
     },
     "execution_count": 92,
     "metadata": {},
     "output_type": "execute_result"
    }
   ],
   "source": [
    "# showing the dataframe\n",
    "df"
   ]
  },
  {
   "cell_type": "markdown",
   "metadata": {},
   "source": [
    "#### Summary statistics"
   ]
  },
  {
   "cell_type": "code",
   "execution_count": 82,
   "metadata": {},
   "outputs": [],
   "source": [
    "from millify import millify"
   ]
  },
  {
   "cell_type": "code",
   "execution_count": 91,
   "metadata": {},
   "outputs": [
    {
     "data": {
      "text/plain": [
       "'14M'"
      ]
     },
     "execution_count": 91,
     "metadata": {},
     "output_type": "execute_result"
    }
   ],
   "source": [
    "# showing the mean for the price in human readable format\n",
    "millify(df['Price'].mean())"
   ]
  },
  {
   "cell_type": "code",
   "execution_count": 85,
   "metadata": {},
   "outputs": [
    {
     "data": {
      "text/plain": [
       "13580336.688541668"
      ]
     },
     "execution_count": 85,
     "metadata": {},
     "output_type": "execute_result"
    }
   ],
   "source": [
    "# the same mean without using millify() function\n",
    "df['Price'].mean()"
   ]
  },
  {
   "cell_type": "code",
   "execution_count": 89,
   "metadata": {},
   "outputs": [
    {
     "data": {
      "text/plain": [
       "'13M'"
      ]
     },
     "execution_count": 89,
     "metadata": {},
     "output_type": "execute_result"
    }
   ],
   "source": [
    "# median for the price column\n",
    "millify(df['Price'].median())"
   ]
  },
  {
   "cell_type": "code",
   "execution_count": 90,
   "metadata": {},
   "outputs": [
    {
     "data": {
      "text/plain": [
       "12700000.0"
      ]
     },
     "execution_count": 90,
     "metadata": {},
     "output_type": "execute_result"
    }
   ],
   "source": [
    "# same thing\n",
    "df['Price'].median()"
   ]
  },
  {
   "cell_type": "code",
   "execution_count": 97,
   "metadata": {},
   "outputs": [
    {
     "data": {
      "text/plain": [
       "count    2.880000e+03\n",
       "mean     1.358034e+07\n",
       "std      6.905754e+06\n",
       "min      1.500000e+06\n",
       "25%      9.500000e+06\n",
       "50%      1.270000e+07\n",
       "75%      1.600000e+07\n",
       "max      1.150000e+08\n",
       "Name: Price, dtype: float64"
      ]
     },
     "execution_count": 97,
     "metadata": {},
     "output_type": "execute_result"
    }
   ],
   "source": [
    "# aggregating statistics\n",
    "df['Price'].describe()"
   ]
  },
  {
   "cell_type": "code",
   "execution_count": null,
   "metadata": {},
   "outputs": [],
   "source": [
    "df['Floor'] = df['Floor'].astype(str).str[0]"
   ]
  },
  {
   "cell_type": "code",
   "execution_count": 219,
   "metadata": {},
   "outputs": [
    {
     "data": {
      "text/html": [
       "<div>\n",
       "<style scoped>\n",
       "    .dataframe tbody tr th:only-of-type {\n",
       "        vertical-align: middle;\n",
       "    }\n",
       "\n",
       "    .dataframe tbody tr th {\n",
       "        vertical-align: top;\n",
       "    }\n",
       "\n",
       "    .dataframe thead th {\n",
       "        text-align: right;\n",
       "    }\n",
       "</style>\n",
       "<table border=\"1\" class=\"dataframe\">\n",
       "  <thead>\n",
       "    <tr style=\"text-align: right;\">\n",
       "      <th></th>\n",
       "      <th>Price</th>\n",
       "    </tr>\n",
       "    <tr>\n",
       "      <th>Floor</th>\n",
       "      <th></th>\n",
       "    </tr>\n",
       "  </thead>\n",
       "  <tbody>\n",
       "    <tr>\n",
       "      <th>7</th>\n",
       "      <td>2.265385e+07</td>\n",
       "    </tr>\n",
       "    <tr>\n",
       "      <th>6</th>\n",
       "      <td>2.081739e+07</td>\n",
       "    </tr>\n",
       "    <tr>\n",
       "      <th>9</th>\n",
       "      <td>1.677273e+07</td>\n",
       "    </tr>\n",
       "    <tr>\n",
       "      <th>2</th>\n",
       "      <td>1.493332e+07</td>\n",
       "    </tr>\n",
       "    <tr>\n",
       "      <th>8</th>\n",
       "      <td>1.468462e+07</td>\n",
       "    </tr>\n",
       "    <tr>\n",
       "      <th>3</th>\n",
       "      <td>1.432984e+07</td>\n",
       "    </tr>\n",
       "    <tr>\n",
       "      <th>1</th>\n",
       "      <td>1.327462e+07</td>\n",
       "    </tr>\n",
       "    <tr>\n",
       "      <th>4</th>\n",
       "      <td>1.324855e+07</td>\n",
       "    </tr>\n",
       "    <tr>\n",
       "      <th>5</th>\n",
       "      <td>1.218574e+07</td>\n",
       "    </tr>\n",
       "  </tbody>\n",
       "</table>\n",
       "</div>"
      ],
      "text/plain": [
       "              Price\n",
       "Floor              \n",
       "7      2.265385e+07\n",
       "6      2.081739e+07\n",
       "9      1.677273e+07\n",
       "2      1.493332e+07\n",
       "8      1.468462e+07\n",
       "3      1.432984e+07\n",
       "1      1.327462e+07\n",
       "4      1.324855e+07\n",
       "5      1.218574e+07"
      ]
     },
     "execution_count": 219,
     "metadata": {},
     "output_type": "execute_result"
    }
   ],
   "source": [
    "df[['Floor', 'Price']].groupby('Floor').mean().sort_values(by = ['Price'], ascending = False)"
   ]
  },
  {
   "cell_type": "code",
   "execution_count": 220,
   "metadata": {},
   "outputs": [
    {
     "data": {
      "text/html": [
       "<div>\n",
       "<style scoped>\n",
       "    .dataframe tbody tr th:only-of-type {\n",
       "        vertical-align: middle;\n",
       "    }\n",
       "\n",
       "    .dataframe tbody tr th {\n",
       "        vertical-align: top;\n",
       "    }\n",
       "\n",
       "    .dataframe thead th {\n",
       "        text-align: right;\n",
       "    }\n",
       "</style>\n",
       "<table border=\"1\" class=\"dataframe\">\n",
       "  <thead>\n",
       "    <tr style=\"text-align: right;\">\n",
       "      <th></th>\n",
       "      <th>Price</th>\n",
       "    </tr>\n",
       "    <tr>\n",
       "      <th>Building method</th>\n",
       "      <th></th>\n",
       "    </tr>\n",
       "  </thead>\n",
       "  <tbody>\n",
       "    <tr>\n",
       "      <th>монолитный, 2010 г.п.</th>\n",
       "      <td>4.733333e+07</td>\n",
       "    </tr>\n",
       "    <tr>\n",
       "      <th>кирпичный, 2020 г.п.</th>\n",
       "      <td>4.250000e+07</td>\n",
       "    </tr>\n",
       "    <tr>\n",
       "      <th>кирпичный, 2021 г.п.</th>\n",
       "      <td>3.500000e+07</td>\n",
       "    </tr>\n",
       "    <tr>\n",
       "      <th>кирпичный, 2019 г.п.</th>\n",
       "      <td>3.417500e+07</td>\n",
       "    </tr>\n",
       "    <tr>\n",
       "      <th>кирпичный, 2018 г.п.</th>\n",
       "      <td>3.300000e+07</td>\n",
       "    </tr>\n",
       "    <tr>\n",
       "      <th>кирпичный, 2007 г.п.</th>\n",
       "      <td>3.057941e+07</td>\n",
       "    </tr>\n",
       "    <tr>\n",
       "      <th>1994 г.п.</th>\n",
       "      <td>2.966667e+07</td>\n",
       "    </tr>\n",
       "    <tr>\n",
       "      <th>монолитный, 2007 г.п.</th>\n",
       "      <td>2.850000e+07</td>\n",
       "    </tr>\n",
       "    <tr>\n",
       "      <th>кирпичный, 2014 г.п.</th>\n",
       "      <td>2.832500e+07</td>\n",
       "    </tr>\n",
       "    <tr>\n",
       "      <th>монолитный, 2013 г.п.</th>\n",
       "      <td>2.830000e+07</td>\n",
       "    </tr>\n",
       "  </tbody>\n",
       "</table>\n",
       "</div>"
      ],
      "text/plain": [
       "                              Price\n",
       "Building method                    \n",
       "монолитный, 2010 г.п.  4.733333e+07\n",
       "кирпичный, 2020 г.п.   4.250000e+07\n",
       "кирпичный, 2021 г.п.   3.500000e+07\n",
       "кирпичный, 2019 г.п.   3.417500e+07\n",
       "кирпичный, 2018 г.п.   3.300000e+07\n",
       "кирпичный, 2007 г.п.   3.057941e+07\n",
       "1994 г.п.              2.966667e+07\n",
       "монолитный, 2007 г.п.  2.850000e+07\n",
       "кирпичный, 2014 г.п.   2.832500e+07\n",
       "монолитный, 2013 г.п.  2.830000e+07"
      ]
     },
     "execution_count": 220,
     "metadata": {},
     "output_type": "execute_result"
    }
   ],
   "source": [
    "df[['Building method', 'Price']].groupby('Building method').mean().sort_values(by = ['Price'], ascending = False).head(10)"
   ]
  },
  {
   "cell_type": "code",
   "execution_count": 221,
   "metadata": {},
   "outputs": [
    {
     "data": {
      "text/html": [
       "<div>\n",
       "<style scoped>\n",
       "    .dataframe tbody tr th:only-of-type {\n",
       "        vertical-align: middle;\n",
       "    }\n",
       "\n",
       "    .dataframe tbody tr th {\n",
       "        vertical-align: top;\n",
       "    }\n",
       "\n",
       "    .dataframe thead th {\n",
       "        text-align: right;\n",
       "    }\n",
       "</style>\n",
       "<table border=\"1\" class=\"dataframe\">\n",
       "  <thead>\n",
       "    <tr style=\"text-align: right;\">\n",
       "      <th></th>\n",
       "      <th>Price</th>\n",
       "    </tr>\n",
       "    <tr>\n",
       "      <th>Building method</th>\n",
       "      <th></th>\n",
       "    </tr>\n",
       "  </thead>\n",
       "  <tbody>\n",
       "    <tr>\n",
       "      <th>кирпичный, 1957 г.п.</th>\n",
       "      <td>8400000.0</td>\n",
       "    </tr>\n",
       "    <tr>\n",
       "      <th>монолитный, 1967 г.п.</th>\n",
       "      <td>8250000.0</td>\n",
       "    </tr>\n",
       "    <tr>\n",
       "      <th>панельный, 2007 г.п.</th>\n",
       "      <td>8000000.0</td>\n",
       "    </tr>\n",
       "    <tr>\n",
       "      <th>панельный, 2015 г.п.</th>\n",
       "      <td>8000000.0</td>\n",
       "    </tr>\n",
       "    <tr>\n",
       "      <th>иное, 1960 г.п.</th>\n",
       "      <td>7500000.0</td>\n",
       "    </tr>\n",
       "    <tr>\n",
       "      <th>иное, 2017 г.п.</th>\n",
       "      <td>7000000.0</td>\n",
       "    </tr>\n",
       "    <tr>\n",
       "      <th>кирпичный, 1954 г.п.</th>\n",
       "      <td>7000000.0</td>\n",
       "    </tr>\n",
       "    <tr>\n",
       "      <th>2006 г.п.</th>\n",
       "      <td>5500000.0</td>\n",
       "    </tr>\n",
       "    <tr>\n",
       "      <th>1958 г.п.</th>\n",
       "      <td>5500000.0</td>\n",
       "    </tr>\n",
       "    <tr>\n",
       "      <th>кирпичный, 1950 г.п.</th>\n",
       "      <td>4250000.0</td>\n",
       "    </tr>\n",
       "  </tbody>\n",
       "</table>\n",
       "</div>"
      ],
      "text/plain": [
       "                           Price\n",
       "Building method                 \n",
       "кирпичный, 1957 г.п.   8400000.0\n",
       "монолитный, 1967 г.п.  8250000.0\n",
       "панельный, 2007 г.п.   8000000.0\n",
       "панельный, 2015 г.п.   8000000.0\n",
       "иное, 1960 г.п.        7500000.0\n",
       "иное, 2017 г.п.        7000000.0\n",
       "кирпичный, 1954 г.п.   7000000.0\n",
       "2006 г.п.              5500000.0\n",
       "1958 г.п.              5500000.0\n",
       "кирпичный, 1950 г.п.   4250000.0"
      ]
     },
     "execution_count": 221,
     "metadata": {},
     "output_type": "execute_result"
    }
   ],
   "source": [
    "floors[['Building method', 'Price']].groupby('Building method').mean().sort_values(by = 'Price', ascending = False).tail(10)"
   ]
  },
  {
   "cell_type": "code",
   "execution_count": 159,
   "metadata": {},
   "outputs": [
    {
     "data": {
      "text/plain": [
       "<matplotlib.axes._subplots.AxesSubplot at 0x1e1e68768b0>"
      ]
     },
     "execution_count": 159,
     "metadata": {},
     "output_type": "execute_result"
    },
    {
     "data": {
      "image/png": "[encoded data removed]",
      "text/plain": [
       "<Figure size 720x432 with 1 Axes>"
      ]
     },
     "metadata": {},
     "output_type": "display_data"
    }
   ],
   "source": [
    "# distplot on prices\n",
    "sns.set_style('whitegrid')\n",
    "plt.figure(figsize=(10,6))\n",
    "\n",
    "sns.set_context('talk', font_scale = 1.4)\n",
    "sns.distplot(df['Price'], bins = 50, mean)"
   ]
  },
  {
   "cell_type": "code",
   "execution_count": 161,
   "metadata": {},
   "outputs": [
    {
     "data": {
      "text/plain": [
       "13580785.496857543"
      ]
     },
     "execution_count": 161,
     "metadata": {},
     "output_type": "execute_result"
    }
   ],
   "source": [
    "df['Price'].mean()"
   ]
  },
  {
   "cell_type": "code",
   "execution_count": 162,
   "metadata": {},
   "outputs": [
    {
     "data": {
      "text/plain": [
       "(2864, 11)"
      ]
     },
     "execution_count": 162,
     "metadata": {},
     "output_type": "execute_result"
    }
   ],
   "source": [
    "df.shape"
   ]
  },
  {
   "cell_type": "markdown",
   "metadata": {},
   "source": [
    "#### Conclusion"
   ]
  },
  {
   "cell_type": "markdown",
   "metadata": {},
   "source": [
    "On doing the summary statistics we saw that the mean price for a flat in Taraz is quite low. \n",
    "\n",
    "That definitely should be lower than most of the big cities in the country. \n",
    "We could see that median and mean are close to each other. Which says that our distribution is symmetrical.\n",
    "\n",
    "The next that I tried to consider is the relationship between the floor number and the price. I assumed that the lower is floor the higher price will be. After implementing groupby function we see that 7th, 6th floors were on top which shocked me. Here my hypothesis failed to be justified.\n",
    "\n",
    "Then I tried to look for the correlation between price and building type where we can see the year of building and some building materials. After groupby method, I see that houses that were built since 2000s were the most expensive, which was obvious actually. \n"
   ]
  },
  {
   "cell_type": "code",
   "execution_count": null,
   "metadata": {},
   "outputs": [],
   "source": []
  }
 ],
 "metadata": {
  "kernelspec": {
   "display_name": "Python 3",
   "language": "python",
   "name": "python3"
  },
  "language_info": {
   "codemirror_mode": {
    "name": "ipython",
    "version": 3
   },
   "file_extension": ".py",
   "mimetype": "text/x-python",
   "name": "python",
   "nbconvert_exporter": "python",
   "pygments_lexer": "ipython3",
   "version": "3.8.5"
  }
 },
 "nbformat": 4,
 "nbformat_minor": 4
}
